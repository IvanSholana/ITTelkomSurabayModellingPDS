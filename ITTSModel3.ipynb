{
 "cells": [
  {
   "cell_type": "code",
   "execution_count": 806,
   "metadata": {},
   "outputs": [],
   "source": [
    "import random"
   ]
  },
  {
   "cell_type": "code",
   "execution_count": 807,
   "metadata": {},
   "outputs": [],
   "source": [
    "class Universitas:\n",
    "    total_mahasiswa = 0\n",
    "    anggaran = 0\n",
    "\n",
    "    def __init__(self, nama_kampus, prodi):\n",
    "        self.nama = nama_kampus\n",
    "        self.prodi = prodi\n",
    "\n",
    "    def hitung_dosen_kampus(self):\n",
    "        total = 0\n",
    "        for program_studi in self.prodi:\n",
    "            total += program_studi.dosen\n",
    "        return total\n"
   ]
  },
  {
   "cell_type": "code",
   "execution_count": 808,
   "metadata": {},
   "outputs": [],
   "source": [
    "class Prodi:\n",
    "    def __init__(self, nama, ukt, kode):\n",
    "        self.nama = nama\n",
    "        self.kode = kode\n",
    "        self.ukt = ukt\n",
    "        self.angkatan = []\n",
    "        self.dosen = 0\n",
    "\n",
    "    def tambah_angkatan_prodi(self, angkatan):\n",
    "        self.angkatan.append(angkatan)\n",
    "\n",
    "    def hitung_mahasiswa_prodi(self):\n",
    "        total = 0\n",
    "        for tiap_angkatan in self.angkatan:\n",
    "            total += tiap_angkatan.hitung_mahasiswa_angkatan()\n",
    "        return total\n"
   ]
  },
  {
   "cell_type": "code",
   "execution_count": 809,
   "metadata": {},
   "outputs": [],
   "source": [
    "class Angkatan:\n",
    "    def __init__(self, tahun):\n",
    "        self.tahun = tahun\n",
    "        self.mahasiswa = []\n",
    "        self.kelas = []\n",
    "\n",
    "    def tambah_mahasiswa_angkatan(self, mahasiswa):\n",
    "        self.mahasiswa.append(mahasiswa)\n",
    "\n",
    "    def hitung_mahasiswa_angkatan(self):\n",
    "        return len(self.mahasiswa)"
   ]
  },
  {
   "cell_type": "code",
   "execution_count": 810,
   "metadata": {},
   "outputs": [],
   "source": [
    "class Mahasiswa:\n",
    "    def __init__(self,NIM):\n",
    "        self.NIM = NIM"
   ]
  },
  {
   "cell_type": "code",
   "execution_count": 811,
   "metadata": {},
   "outputs": [],
   "source": [
    "class Kelas:\n",
    "    def __init__(self,nama_kelas):\n",
    "        self.nama_kelas = nama_kelas\n",
    "        self.mahasiswa = []\n",
    "    def tambah_mahasiswa_kelas(self,mahasiswa):\n",
    "        self.mahasiswa.append(mahasiswa)\n",
    "    def hitung_mahasiswa_kelas(self):\n",
    "        return len(self.mahasiswa)"
   ]
  },
  {
   "cell_type": "code",
   "execution_count": 812,
   "metadata": {},
   "outputs": [],
   "source": [
    "prodi = [Prodi(\"Informatika\",7000000,\"IF\"),\n",
    "         Prodi(\"Sistem Informasi\",8000000,\"SI\"),\n",
    "         Prodi(\"Teknologi Indormasi\",8000000,\"TI\"),\n",
    "         Prodi(\"Rekayasa Perangkat Lunak\",8500000,\"RPL\"),\n",
    "         Prodi(\"Sains Data\",7000000,\"DS\")]"
   ]
  },
  {
   "cell_type": "code",
   "execution_count": 813,
   "metadata": {},
   "outputs": [],
   "source": [
    "TelkomMadura = Universitas(\"Telkom Madura\",prodi)"
   ]
  },
  {
   "cell_type": "code",
   "execution_count": 814,
   "metadata": {},
   "outputs": [],
   "source": [
    "def proses_mendaftar(NIM,tahun_angkatan):\n",
    "    # MEMILIH PRODI\n",
    "    prodi_terpilih = random.randint(0,4)\n",
    "    mahasiswa_baru = Mahasiswa(NIM)\n",
    "    prodi[prodi_terpilih].angkatan[tahun_angkatan].mahasiswa.append(mahasiswa_baru)\n",
    "    \n",
    "    # PEMBAYARAN\n",
    "    BiayaUP3 = 8000000\n",
    "    BiayaSDP = 12150000\n",
    "    BiayaUKT = prodi[prodi_terpilih].ukt\n",
    "    Total = BiayaSDP + BiayaUKT + BiayaUP3\n",
    "    return Total"
   ]
  },
  {
   "cell_type": "code",
   "execution_count": 815,
   "metadata": {},
   "outputs": [],
   "source": [
    "def membuat_kelas(angkatan):\n",
    "    for program_studi in prodi:\n",
    "        total_mahasiswa = program_studi.angkatan[angkatan].hitung_mahasiswa_angkatan()\n",
    "        total_kelas = total_mahasiswa // 30\n",
    "        kode_kelas = 0\n",
    "        for _ in range(total_kelas):\n",
    "            program_studi.angkatan[angkatan].kelas.append(Kelas(f\"{program_studi.kode}-{angkatan}-{kode_kelas + 1}\")) # menambahkan kelas baru\n",
    "            for mahasiswa in program_studi.angkatan[angkatan].mahasiswa: # looping ke mahasiswa di angkatan tertentu\n",
    "                program_studi.angkatan[angkatan].kelas[kode_kelas].mahasiswa.append(mahasiswa) # menambahkan mahasiswa ke kelas\n",
    "                if program_studi.angkatan[angkatan].kelas[kode_kelas].hitung_mahasiswa_kelas() == 30: # jika mahasiswa per kelas sudah 30 maka break dan buat kelas baru\n",
    "                    break\n",
    "            kode_kelas += 1\n",
    "            \n",
    "        if total_mahasiswa - total_mahasiswa * 30 != 0:\n",
    "            sisa_mahasiswa = total_mahasiswa - total_mahasiswa * 30 \n",
    "            for sisa in range(total_mahasiswa-sisa_mahasiswa,total_mahasiswa): # looping dari mahasiswa yang belum dapat kelas\n",
    "                program_studi.angkatan[angkatan].kelas.append(Kelas(f\"{program_studi.kode}-{angkatan}-{kode_kelas + 1}\")) # menambahkan kelas baru\n",
    "                program_studi.angkatan[angkatan].kelas[kode_kelas].mahasiswa.append(program_studi.angkatan[angkatan].mahasiswa[sisa]) # menambahkan mahasiswa sisa ke kelas baru\n",
    "                if program_studi.angkatan[angkatan].kelas[kode_kelas].hitung_mahasiswa_kelas() == 30: # jika mahasiswa per kelas sudah 30 maka break dan buat kelas baru\n",
    "                    break\n",
    "            kode_kelas += 1\n",
    "        # KEBUTUHAN DOSEN\n",
    "        hitung_kebutuhan_dosen(program_studi)"
   ]
  },
  {
   "cell_type": "code",
   "execution_count": 816,
   "metadata": {},
   "outputs": [],
   "source": [
    "def hitung_kebutuhan_dosen(program_studi):\n",
    "    total_mahasiswa = program_studi.hitung_mahasiswa_prodi()\n",
    "    kebutuhan_dosen = total_mahasiswa // 60\n",
    "    program_studi.dosen = kebutuhan_dosen"
   ]
  },
  {
   "cell_type": "code",
   "execution_count": 817,
   "metadata": {},
   "outputs": [],
   "source": [
    "def pengeluaran_kampus(bulan):\n",
    "    gajiDosen = 7000000 * TelkomMadura.hitung_dosen_kampus()\n",
    "    pengeluaran = 0.7 * TelkomMadura.anggaran / 12  + gajiDosen\n",
    "    if bulan == 12:\n",
    "        pengeluaran += 200000000\n",
    "    return pengeluaran"
   ]
  },
  {
   "cell_type": "code",
   "execution_count": 818,
   "metadata": {},
   "outputs": [],
   "source": [
    "def hitung_mahasiswa(tahun_angkatan):\n",
    "    total = 0\n",
    "    for program_studi in prodi:\n",
    "        total += program_studi.angkatan[tahun_angkatan].hitung_mahasiswa_angkatan()\n",
    "    return total"
   ]
  },
  {
   "cell_type": "code",
   "execution_count": 819,
   "metadata": {},
   "outputs": [],
   "source": [
    "def bayar_ukt(self):\n",
    "    pemasukan = 0\n",
    "    for program_studi in prodi:\n",
    "        pemasukan += program_studi.ukt * program_studi.hitung_mahasiswa_prodi()\n",
    "    return pemasukan"
   ]
  },
  {
   "cell_type": "code",
   "execution_count": 820,
   "metadata": {},
   "outputs": [],
   "source": [
    "def simulasi_kampus(tahun_start,tahun_terakhir):\n",
    "    angkatan = tahun_start\n",
    "    growth_factor = 1.02 # kenaikan atau penurunan mahasiswa calon pendaftar\n",
    "    mahasiswa = random.randint(1,100) # kemungkinan mahasiswa calon pendaftar\n",
    "    nim = 1 # NIM atau ID mahasiswa\n",
    "    cashflow = []\n",
    "    # SIMULASI\n",
    "    for tahun in range(tahun_terakhir - tahun_start):\n",
    "        # Membuat Angkatan Baru di Tiap Prodi\n",
    "        for program_studi in prodi:\n",
    "            program_studi.tambah_angkatan_prodi(Angkatan(tahun))\n",
    "        for bulan in range(1,13):\n",
    "            pemasukan = 0\n",
    "            if(bulan == 2 or bulan == 9):\n",
    "                pemasukan += bayar_ukt(prodi)\n",
    "            # PENDAFTARAN   \n",
    "            for _ in range(30): \n",
    "                if random.random() < 0.5: # Kemungkinan kenaikan calon pendaftar\n",
    "                    mahasiswa +=  int(mahasiswa * random.uniform(0.05, 0.5) * growth_factor)\n",
    "                else:\n",
    "                    mahasiswa -= int(mahasiswa * random.uniform(0.05, 0.5) * growth_factor)\n",
    "                # Mahasiswa Mendaftar\n",
    "                for _ in range(mahasiswa):\n",
    "                    if random.random() < 0.5:\n",
    "                        pemasukan += proses_mendaftar(nim,tahun)\n",
    "                        nim += 1\n",
    "                    if hitung_mahasiswa(tahun) == 600:\n",
    "                        break\n",
    "        \n",
    "            # PENGELUARAN TIAP BULAN\n",
    "            pengeluaran = pengeluaran_kampus(bulan)\n",
    "            TelkomMadura.anggaran -= pengeluaran\n",
    "            cashflow.append([angkatan,bulan,pemasukan,pengeluaran,TelkomMadura.anggaran])\n",
    "        \n",
    "        # PEMBAGIAN KELAS\n",
    "        membuat_kelas(tahun)\n",
    "        angkatan += 1\n",
    "        \n",
    "    return cashflow"
   ]
  },
  {
   "cell_type": "code",
   "execution_count": 821,
   "metadata": {},
   "outputs": [
    {
     "data": {
      "text/plain": [
       "[[2021, 1, 3321850000, 0.0, 0.0],\n",
       " [2021, 2, 1699700000, 0.0, 0.0],\n",
       " [2021, 3, 448400000, 0.0, 0.0],\n",
       " [2021, 4, 421750000, 0.0, 0.0],\n",
       " [2021, 5, 475550000, 0.0, 0.0],\n",
       " [2021, 6, 385600000, 0.0, 0.0],\n",
       " [2021, 7, 526850000, 0.0, 0.0],\n",
       " [2021, 8, 416750000, 0.0, 0.0],\n",
       " [2021, 9, 2213800000, 0.0, 0.0],\n",
       " [2021, 10, 443900000, 0.0, 0.0],\n",
       " [2021, 11, 421250000, 0.0, 0.0],\n",
       " [2021, 12, 532850000, 200000000.0, -200000000.0],\n",
       " [2022, 1, 364450000, -4666666.666666666, -195333333.33333334],\n",
       " [2022, 2, 2934050000, -4394444.444444446, -190938888.8888889],\n",
       " [2022, 3, 416750000, -4138101.8518518526, -186800787.03703704],\n",
       " [2022, 4, 365450000, -3896712.5771604944, -182904074.45987654],\n",
       " [2022, 5, 361450000, -3669404.3434927966, -179234670.11638373],\n",
       " [2022, 6, 333800000, -3455355.756789049, -175779314.35959467],\n",
       " [2022, 7, 447400000, -3253793.3376430217, -172525521.02195165],\n",
       " [2022, 8, 443900000, -3063988.7262805123, -169461532.29567114],\n",
       " [2022, 9, 3661750000, -2885256.0505808163, -166576276.2450903],\n",
       " [2022, 10, 449900000, -2716949.4476302676, -163859326.79746005],\n",
       " [2022, 11, 445400000, -2558460.7298518363, -161300866.0676082],\n",
       " [2022, 12, 449900000, 197590782.81272286, -358891648.88033104],\n",
       " [2023, 1, 279000000, 21064653.815314025, -379956302.6956451],\n",
       " [2023, 2, 4201100000, 19835882.34275404, -399792185.03839916],\n",
       " [2023, 3, 472550000, 18678789.206093386, -418470974.24449253],\n",
       " [2023, 4, 363450000, 17589193.169071272, -436060167.4135638],\n",
       " [2023, 5, 442400000, 16563156.90087545, -452623324.31443924],\n",
       " [2023, 6, 359950000, 15596972.74832438, -468220297.06276363],\n",
       " [2023, 7, 277500000, 14687149.338005457, -482907446.4007691],\n",
       " [2023, 8, 308650000, 13830398.959955137, -496737845.3607243],\n",
       " [2023, 9, 5005050000, 13023625.687291086, -509761471.04801536],\n",
       " [2023, 10, 419750000, 12263914.18886577, -522025385.23688114],\n",
       " [2023, 11, 363450000, 11548519.19451527, -533573904.4313964],\n",
       " [2023, 12, 391600000, 210874855.5748352, -744448760.0062317],\n",
       " [2024, 1, 416750000, 19573822.332969822, -764022582.3392015],\n",
       " [2024, 2, 5409650000, 18432016.03021325, -782454598.3694147],\n",
       " [2024, 3, 443900000, 17356815.09511748, -799811413.4645321],\n",
       " [2024, 4, 444900000, 16344334.214568965, -816155747.6791011],\n",
       " [2024, 5, 416750000, 15390914.718719102, -831546662.3978202],\n",
       " [2024, 6, 310150000, 14493111.360127158, -846039773.7579474],\n",
       " [2024, 7, 498700000, 13647679.864119738, -859687453.6220672],\n",
       " [2024, 8, 645450000, 12851565.205379419, -872539018.8274466],\n",
       " [2024, 9, 6371750000, 12101890.568398952, -884640909.3958455],\n",
       " [2024, 10, 525850000, 11395946.951909013, -896036856.3477546],\n",
       " [2024, 11, 444900000, 10731183.379714318, -906768039.727469],\n",
       " [2024, 12, 420750000, 210105197.68256432, -1116873237.4100332]]"
      ]
     },
     "execution_count": 821,
     "metadata": {},
     "output_type": "execute_result"
    }
   ],
   "source": [
    "result = simulasi_kampus(2021,2025)\n",
    "result"
   ]
  },
  {
   "cell_type": "code",
   "execution_count": 822,
   "metadata": {},
   "outputs": [
    {
     "ename": "AttributeError",
     "evalue": "'Angkatan' object has no attribute 'hitung_mahasiswa'",
     "output_type": "error",
     "traceback": [
      "\u001b[1;31m---------------------------------------------------------------------------\u001b[0m",
      "\u001b[1;31mAttributeError\u001b[0m                            Traceback (most recent call last)",
      "Cell \u001b[1;32mIn[822], line 1\u001b[0m\n\u001b[1;32m----> 1\u001b[0m prodi[\u001b[39m0\u001b[39;49m]\u001b[39m.\u001b[39;49mangkatan[\u001b[39m0\u001b[39;49m]\u001b[39m.\u001b[39;49mhitung_mahasiswa()\n",
      "\u001b[1;31mAttributeError\u001b[0m: 'Angkatan' object has no attribute 'hitung_mahasiswa'"
     ]
    }
   ],
   "source": [
    "prodi[0].angkatan[0].hitung_mahasiswa()"
   ]
  }
 ],
 "metadata": {
  "kernelspec": {
   "display_name": "modsim",
   "language": "python",
   "name": "python3"
  },
  "language_info": {
   "codemirror_mode": {
    "name": "ipython",
    "version": 3
   },
   "file_extension": ".py",
   "mimetype": "text/x-python",
   "name": "python",
   "nbconvert_exporter": "python",
   "pygments_lexer": "ipython3",
   "version": "3.11.4"
  },
  "orig_nbformat": 4
 },
 "nbformat": 4,
 "nbformat_minor": 2
}
