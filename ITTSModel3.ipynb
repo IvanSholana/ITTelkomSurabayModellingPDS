{
 "cells": [
  {
   "cell_type": "code",
   "execution_count": 21,
   "metadata": {},
   "outputs": [],
   "source": [
    "import random"
   ]
  },
  {
   "cell_type": "code",
   "execution_count": 22,
   "metadata": {},
   "outputs": [],
   "source": [
    "class Prodi:\n",
    "    angkatan = []\n",
    "    kelas = []\n",
    "    def __init__(self,nama,kode,ukt):\n",
    "        self.nama = nama\n",
    "        self.kode = kode\n",
    "        self.ukt = ukt\n",
    "    \n",
    "    def tambah_angkatan(self,angkatan):\n",
    "        self.angkatan.append(angkatan)\n",
    "    \n",
    "    def hitung_mahasiswa():\n",
    "        total = 0\n",
    "        for tiap_angkatan in self.angkatan:\n",
    "            total += tiap_angkatan.hitung_mahasiswa()\n",
    "        return total"
   ]
  },
  {
   "cell_type": "code",
   "execution_count": 23,
   "metadata": {},
   "outputs": [],
   "source": [
    "class Angkatan:\n",
    "    mahasiswa = []\n",
    "    def __init__(self,tahun):\n",
    "        self.tahun = tahun\n",
    "    \n",
    "    def tambah_mahasiswa(self,mahasiswa):\n",
    "        self.mahasiswa.append(mahasiswa)    \n",
    "    \n",
    "    def hitung_mahasiswa():\n",
    "        return len(self.mahasiswa) "
   ]
  },
  {
   "cell_type": "code",
   "execution_count": 24,
   "metadata": {},
   "outputs": [],
   "source": [
    "class Mahasiswa:\n",
    "    def __init__(self,NIM):\n",
    "        self.NIM = NIM"
   ]
  },
  {
   "cell_type": "code",
   "execution_count": 25,
   "metadata": {},
   "outputs": [],
   "source": [
    "prodi = [Prodi(\"Informatika\",7000000,\"IF\"),\n",
    "         Prodi(\"Sistem Informasi\",8000000,\"SI\"),\n",
    "         Prodi(\"Teknologi Indormasi\",8000000,\"TI\"),\n",
    "         Prodi(\"Rekayasa Perangkat Lunak\",8500000,\"RPL\"),\n",
    "         Prodi(\"Sains Data\",7000000,\"DS\")]"
   ]
  },
  {
   "cell_type": "code",
   "execution_count": 26,
   "metadata": {},
   "outputs": [],
   "source": [
    "def proses_mendaftar(NIM,tahun_angkatan):\n",
    "    # MEMILIH PRODI\n",
    "    prodi_terpilih = random.randint(0,4)\n",
    "    mahasiswa_baru = Mahasiswa(NIM)\n",
    "    prodi[prodi_terpilih].angkatan[tahun_angkatan].mahasiswa.append(mahasiswa_baru)\n",
    "    \n",
    "    # PEMBAYARAN\n",
    "    BiayaUP3 = 8000000\n",
    "    BiayaSDP = 12150000\n",
    "    BiayaUKT = prodi[prodi_terpilih].UKT\n",
    "    Total = BiayaSDP + BiayaUKT + BiayaUP3\n",
    "    return Total"
   ]
  },
  {
   "cell_type": "code",
   "execution_count": 27,
   "metadata": {},
   "outputs": [],
   "source": [
    "def simulas_kampus(tahun_start,tahun_terakhir):\n",
    "    angkatan = tahun_start\n",
    "    growth_factor = 1.02 # kenaikan atau penurunan mahasiswa calon pendaftar\n",
    "    mahasiswa = random.randint(1,100) # kemungkinan mahasiswa calon pendaftar\n",
    "    nim = 1 # NIM atau ID mahasiswa\n",
    "    cashflow = []\n",
    "    # SIMULASI\n",
    "    for tahun in range(tahun_terakhir,tahun_start):\n",
    "        # Membuat Angkatan Baru di Tiap Prodi\n",
    "        for program_studi in prodi:\n",
    "            program_studi.angkatan.append(Angkatan(tahun))\n",
    "        for bulan in range(1,13):\n",
    "            pemasukan = 0\n",
    "            if(bulan == 2 or bulan == 9):\n",
    "                pemasukan += bayar_ukt(prodi)\n",
    "            # PENDAFTARAN   \n",
    "            for _ in range(30): \n",
    "                if random.random() < 0.5: # Kemungkinan kenaikan calon pendaftar\n",
    "                    mahasiswa +=  int(mahasiswa * random.uniform(0.05, 0.5) * growth_factor)\n",
    "                else:\n",
    "                    mahasiswa -= int(mahasiswa * random.uniform(0.05, 0.5) * growth_factor)\n",
    "                # Mahasiswa Mendaftar\n",
    "                for _ in range(mahasiswa):\n",
    "                    if random.random() < 0.5:\n",
    "                        pemasukan += proses_mendaftar(nim,tahun)\n",
    "                        nim += 1\n",
    "                    if hitung_mahasiswa(prodi) == 600:\n",
    "                        break\n",
    "        \n",
    "            # PENGELUARAN TIAP BULAN\n",
    "            pengeluaran = pengeluaran_kampus(bulan)\n",
    "            Universitas.anggaran -= pengeluaran\n",
    "            cashflow.append([angkatan,bulan,pemasukan,pengeluaran,Universitas.anggaran])\n",
    "        \n",
    "        # PEMBAGIAN KELAS\n",
    "        # pembagian_kelas(tahun)\n",
    "        angkatan += 1\n",
    "    \n",
    "    return cashflow"
   ]
  }
 ],
 "metadata": {
  "kernelspec": {
   "display_name": "modsim",
   "language": "python",
   "name": "python3"
  },
  "language_info": {
   "codemirror_mode": {
    "name": "ipython",
    "version": 3
   },
   "file_extension": ".py",
   "mimetype": "text/x-python",
   "name": "python",
   "nbconvert_exporter": "python",
   "pygments_lexer": "ipython3",
   "version": "3.11.4"
  },
  "orig_nbformat": 4
 },
 "nbformat": 4,
 "nbformat_minor": 2
}
