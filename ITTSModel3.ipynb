{
 "cells": [
  {
   "cell_type": "code",
   "execution_count": null,
   "metadata": {},
   "outputs": [],
   "source": [
    "import random\n",
    "import pandas as pd"
   ]
  },
  {
   "cell_type": "code",
   "execution_count": null,
   "metadata": {},
   "outputs": [],
   "source": [
    "class Universitas:\n",
    "    total_mahasiswa = 0\n",
    "    anggaran = 0\n",
    "\n",
    "    def __init__(self, nama_kampus, prodi):\n",
    "        self.nama = nama_kampus\n",
    "        self.prodi = prodi\n",
    "\n",
    "    def hitung_dosen_kampus(self):\n",
    "        total = 0\n",
    "        for program_studi in self.prodi:\n",
    "            total += program_studi.dosen\n",
    "        return total\n",
    "    \n",
    "    def mahasiswa_lulus(self):\n",
    "        for program_studi in self.prodi:\n",
    "            program_studi.angkatan.pop(0)"
   ]
  },
  {
   "cell_type": "code",
   "execution_count": null,
   "metadata": {},
   "outputs": [],
   "source": [
    "class Prodi:\n",
    "    def __init__(self, nama, ukt, kode):\n",
    "        self.nama = nama\n",
    "        self.kode = kode\n",
    "        self.ukt = ukt\n",
    "        self.angkatan = []\n",
    "        self.dosen = 0\n",
    "\n",
    "    def tambah_angkatan_prodi(self, angkatan):\n",
    "        self.angkatan.append(angkatan)\n",
    "\n",
    "    def hitung_mahasiswa_prodi(self):\n",
    "        total = 0\n",
    "        for tiap_angkatan in self.angkatan:\n",
    "            total += tiap_angkatan.hitung_mahasiswa_angkatan()\n",
    "        return total"
   ]
  },
  {
   "cell_type": "code",
   "execution_count": null,
   "metadata": {},
   "outputs": [],
   "source": [
    "class Angkatan:\n",
    "    def __init__(self, tahun):\n",
    "        self.tahun = tahun\n",
    "        self.mahasiswa = []\n",
    "        self.kelas = []\n",
    "\n",
    "    def tambah_mahasiswa_angkatan(self, mahasiswa):\n",
    "        self.mahasiswa.append(mahasiswa)\n",
    "\n",
    "    def hitung_mahasiswa_angkatan(self):\n",
    "        return len(self.mahasiswa)"
   ]
  },
  {
   "cell_type": "code",
   "execution_count": null,
   "metadata": {},
   "outputs": [],
   "source": [
    "class Mahasiswa:\n",
    "    def __init__(self,NIM):\n",
    "        self.NIM = NIM"
   ]
  },
  {
   "cell_type": "code",
   "execution_count": null,
   "metadata": {},
   "outputs": [],
   "source": [
    "class Kelas:\n",
    "    def __init__(self,nama_kelas):\n",
    "        self.nama_kelas = nama_kelas\n",
    "        self.mahasiswa = []\n",
    "    def tambah_mahasiswa_kelas(self,mahasiswa):\n",
    "        self.mahasiswa.append(mahasiswa)\n",
    "    def hitung_mahasiswa_kelas(self):\n",
    "        return len(self.mahasiswa)"
   ]
  },
  {
   "cell_type": "code",
   "execution_count": null,
   "metadata": {},
   "outputs": [],
   "source": [
    "prodi = [Prodi(\"Informatika\",7000000,\"IF\"),\n",
    "         Prodi(\"Sistem Informasi\",8000000,\"SI\"),\n",
    "         Prodi(\"Teknologi Indormasi\",8000000,\"TI\"),\n",
    "         Prodi(\"Rekayasa Perangkat Lunak\",8500000,\"RPL\"),\n",
    "         Prodi(\"Sains Data\",7000000,\"DS\")]"
   ]
  },
  {
   "cell_type": "code",
   "execution_count": null,
   "metadata": {},
   "outputs": [],
   "source": [
    "TelkomMadura = Universitas(\"Telkom Madura\",prodi)"
   ]
  },
  {
   "cell_type": "code",
   "execution_count": null,
   "metadata": {},
   "outputs": [],
   "source": [
    "def proses_mendaftar(NIM,tahun_angkatan):\n",
    "    # MEMILIH PRODI\n",
    "    prodi_terpilih = random.randint(0,4)\n",
    "    mahasiswa_baru = Mahasiswa(NIM)\n",
    "    prodi[prodi_terpilih].angkatan[tahun_angkatan].mahasiswa.append(mahasiswa_baru)\n",
    "    \n",
    "    # PEMBAYARAN\n",
    "    BiayaUP3 = 8000000\n",
    "    BiayaSDP = 12150000\n",
    "    BiayaUKT = prodi[prodi_terpilih].ukt\n",
    "    Total = BiayaSDP + BiayaUKT + BiayaUP3\n",
    "    return Total"
   ]
  },
  {
   "cell_type": "code",
   "execution_count": null,
   "metadata": {},
   "outputs": [],
   "source": [
    "def membuat_kelas(tahun_angkatan,tahun):\n",
    "    for program_studi in prodi:\n",
    "        total_mahasiswa = program_studi.angkatan[tahun_angkatan].hitung_mahasiswa_angkatan()\n",
    "        total_kelas = total_mahasiswa // 30 + 1\n",
    "        kode_kelas = 0\n",
    "\n",
    "        total_kelas_counter = 0\n",
    "        start = 0\n",
    "        while total_kelas_counter < total_kelas and total_mahasiswa >= 0:\n",
    "            program_studi.angkatan[tahun_angkatan].kelas.append(Kelas(f\"{program_studi.kode}-{tahun}-{kode_kelas + 1}\")) # menambahkan kelas baru\n",
    "            for mahasiswa in program_studi.angkatan[tahun_angkatan].mahasiswa[start:]: # looping ke mahasiswa di angkatan tertentu\n",
    "                program_studi.angkatan[tahun_angkatan].kelas[kode_kelas].mahasiswa.append(mahasiswa) # menambahkan mahasiswa ke kelas\n",
    "                total_mahasiswa = total_mahasiswa - 1\n",
    "                start += 1\n",
    "                if program_studi.angkatan[tahun_angkatan].kelas[kode_kelas].hitung_mahasiswa_kelas() == 30: # jika mahasiswa per kelas sudah 30 maka break dan buat kelas baru\n",
    "                    break\n",
    "            kode_kelas += 1\n",
    "            total_kelas_counter += 1\n",
    "\n",
    "        # for _ in range(total_kelas):\n",
    "        #     program_studi.angkatan[tahun_angkatan].kelas.append(Kelas(f\"{program_studi.kode}-{tahun_angkatan}-{kode_kelas + 1}\")) # menambahkan kelas baru\n",
    "        #     for mahasiswa in program_studi.angkatan[tahun_angkatan].mahasiswa: # looping ke mahasiswa di angkatan tertentu\n",
    "        #         program_studi.angkatan[tahun_angkatan].kelas[kode_kelas].mahasiswa.append(mahasiswa) # menambahkan mahasiswa ke kelas\n",
    "        #         total_mahasiswa = total_mahasiswa - 1\n",
    "        #         if program_studi.angkatan[tahun_angkatan].kelas[kode_kelas].hitung_mahasiswa_kelas() == 30: # jika mahasiswa per kelas sudah 30 maka break dan buat kelas baru\n",
    "        #             break\n",
    "        #     kode_kelas += 1\n",
    "            \n",
    "        # if total_mahasiswa - total_kelas * 30 != 0:\n",
    "        #     sisa_mahasiswa = total_mahasiswa - total_mahasiswa * 30 \n",
    "        #     for sisa in range(total_mahasiswa-sisa_mahasiswa,total_mahasiswa): # looping dari mahasiswa yang belum dapat kelas\n",
    "        #         program_studi.angkatan[tahun_angkatan].kelas.append(Kelas(f\"{program_studi.kode}-{tahun_angkatan}-{kode_kelas + 1}\")) # menambahkan kelas baru\n",
    "        #         program_studi.angkatan[tahun_angkatan].kelas[kode_kelas].mahasiswa.append(program_studi.angkatan[tahun_angkatan].mahasiswa[sisa]) # menambahkan mahasiswa sisa ke kelas baru\n",
    "        #         if program_studi.angkatan[tahun_angkatan].kelas[kode_kelas].hitung_mahasiswa_kelas() == 30: # jika mahasiswa per kelas sudah 30 maka break dan buat kelas baru\n",
    "        #             break\n",
    "        #     kode_kelas += 1\n",
    "        # KEBUTUHAN DOSEN\n",
    "        hitung_kebutuhan_dosen(program_studi)"
   ]
  },
  {
   "cell_type": "code",
   "execution_count": null,
   "metadata": {},
   "outputs": [],
   "source": [
    "def hitung_kebutuhan_dosen(program_studi):\n",
    "    total_mahasiswa = program_studi.hitung_mahasiswa_prodi()\n",
    "    kebutuhan_dosen = total_mahasiswa // 60\n",
    "    program_studi.dosen = kebutuhan_dosen"
   ]
  },
  {
   "cell_type": "code",
   "execution_count": null,
   "metadata": {},
   "outputs": [],
   "source": [
    "def pengeluaran_kampus(bulan):\n",
    "    gaji_dosen = 7000000 * TelkomMadura.hitung_dosen_kampus()\n",
    "    pengeluaran = 0.7 * TelkomMadura.anggaran / 12  + gaji_dosen\n",
    "    if bulan == 12:\n",
    "        pengeluaran += 200000000 # biaya gedung\n",
    "    return pengeluaran"
   ]
  },
  {
   "cell_type": "code",
   "execution_count": null,
   "metadata": {},
   "outputs": [],
   "source": [
    "def hitung_mahasiswa(tahun_angkatan):\n",
    "    total = 0\n",
    "    for program_studi in prodi:\n",
    "        total += program_studi.angkatan[tahun_angkatan].hitung_mahasiswa_angkatan()\n",
    "    return total"
   ]
  },
  {
   "cell_type": "code",
   "execution_count": null,
   "metadata": {},
   "outputs": [],
   "source": [
    "def lihat_kelas():\n",
    "    # for program_studi in prodi:\n",
    "    #     for angkatan in program_studi.angkatan:\n",
    "    #         print(f\"{program_studi.nama} ({angkatan.tahun}) :\")\n",
    "    #         for kelas in angkatan.kelas:\n",
    "    #             print(f\"{kelas.nama_kelas} : {[mahasiswa.NIM for mahasiswa in kelas.mahasiswa]}\")\n",
    "    #     print(\"\\n\")\n",
    "    for angkatan in prodi[0].angkatan:\n",
    "        print(f\"{angkatan.tahun} = {[kelas.nama_kelas for kelas in angkatan.kelas]}\")"
   ]
  },
  {
   "cell_type": "code",
   "execution_count": null,
   "metadata": {},
   "outputs": [],
   "source": [
    "def bayar_ukt(self):\n",
    "    pemasukan = 0\n",
    "    for program_studi in prodi:\n",
    "        pemasukan += program_studi.ukt * program_studi.hitung_mahasiswa_prodi()\n",
    "    return pemasukan"
   ]
  },
  {
   "cell_type": "code",
   "execution_count": null,
   "metadata": {},
   "outputs": [],
   "source": [
    "def rekap_mahasiswa_prodi(tahun):\n",
    "    mahasiswa = []\n",
    "    for program_studi in prodi:\n",
    "        mahasiswa.append(program_studi.angkatan[tahun].hitung_mahasiswa_angkatan())\n",
    "    return mahasiswa"
   ]
  },
  {
   "cell_type": "code",
   "execution_count": null,
   "metadata": {},
   "outputs": [],
   "source": [
    "def lihat_angkatan():\n",
    "    print([i.tahun for i in prodi[0].angkatan])"
   ]
  },
  {
   "cell_type": "code",
   "execution_count": null,
   "metadata": {},
   "outputs": [],
   "source": [
    "def simulasi_kampus(tahun_start,tahun_terakhir):\n",
    "    angkatan = tahun_start\n",
    "    growth_factor = 1.02 # kenaikan atau penurunan mahasiswa calon pendaftar\n",
    "    mahasiswa = random.randint(1,100) # kemungkinan mahasiswa calon pendaftar\n",
    "    nim = 1 # NIM atau ID mahasiswa\n",
    "    cashflow = []\n",
    "    data_mahasiswa = []\n",
    "    # SIMULASI\n",
    "    for tahun in range(tahun_terakhir - tahun_start): \n",
    "        # Membuat Angkatan Baru di Tiap Prodi\n",
    "        for program_studi in prodi:\n",
    "            program_studi.tambah_angkatan_prodi(Angkatan(tahun))\n",
    "        for bulan in range(1,13):\n",
    "            pemasukan = 0\n",
    "            if(bulan == 2 or bulan == 9):\n",
    "                pemasukan += bayar_ukt(prodi)\n",
    "            # PENDAFTARAN   \n",
    "            for _ in range(30): \n",
    "                if random.random() < 0.5: # Kemungkinan kenaikan calon pendaftar\n",
    "                    mahasiswa +=  int(mahasiswa * random.uniform(0.05, 0.5) * growth_factor)\n",
    "                else:\n",
    "                    mahasiswa -= int(mahasiswa * random.uniform(0.05, 0.5) * growth_factor)\n",
    "                # Mahasiswa Mendaftar\n",
    "                for _ in range(mahasiswa):\n",
    "                    if random.random() < 0.5:\n",
    "                        pemasukan += proses_mendaftar(nim,-1)\n",
    "                        nim += 1\n",
    "                    if hitung_mahasiswa(-1) == 600:\n",
    "                        break\n",
    "            \n",
    "            # PEMASUKAN TIAP BULAN\n",
    "            TelkomMadura.anggaran += pemasukan\n",
    "        \n",
    "            # PENGELUARAN TIAP BULAN\n",
    "            pengeluaran = pengeluaran_kampus(bulan)\n",
    "            TelkomMadura.anggaran -= pengeluaran\n",
    "            cashflow.append([angkatan,bulan,pemasukan,pengeluaran,TelkomMadura.anggaran])\n",
    "            \n",
    "        if tahun > 3:\n",
    "            TelkomMadura.mahasiswa_lulus()\n",
    "        \n",
    "        # PEMBAGIAN KELAS\n",
    "        membuat_kelas(-1,tahun)\n",
    "        data_mahasiswa.append(rekap_mahasiswa_prodi(-1))\n",
    "        # lihat_angkatan()\n",
    "        lihat_kelas()\n",
    "        print(\"\\n\")\n",
    "        \n",
    "        angkatan += 1\n",
    "            \n",
    "    return [cashflow,data_mahasiswa]"
   ]
  },
  {
   "cell_type": "code",
   "execution_count": null,
   "metadata": {},
   "outputs": [],
   "source": [
    "result = simulasi_kampus(2021,2050)\n",
    "result"
   ]
  },
  {
   "cell_type": "code",
   "execution_count": null,
   "metadata": {},
   "outputs": [],
   "source": [
    "columns = ['tahun', 'bulan', 'pemasukan', 'pengeluaran', 'anggaran']\n",
    "df = pd.DataFrame(result[0], columns=columns)\n",
    "dfeachYear = []\n",
    "\n",
    "tahuncolumns = df.tahun.unique().tolist()\n",
    "\n",
    "for i in tahuncolumns:\n",
    "    dfeachYear.append(df.loc[df.tahun == i])"
   ]
  },
  {
   "cell_type": "code",
   "execution_count": null,
   "metadata": {},
   "outputs": [],
   "source": [
    "dfeachYear"
   ]
  },
  {
   "cell_type": "code",
   "execution_count": null,
   "metadata": {},
   "outputs": [],
   "source": [
    "columns = ['Informatika', 'Sistem Informasi', 'Teknologi Informasi', 'Rekayasa Perangkat Lunak', 'Sains Data']\n",
    "df = pd.DataFrame(result[1], columns=columns)\n",
    "df"
   ]
  },
  {
   "cell_type": "code",
   "execution_count": null,
   "metadata": {},
   "outputs": [],
   "source": [
    "lihat_kelas()"
   ]
  }
 ],
 "metadata": {
  "kernelspec": {
   "display_name": "modsim",
   "language": "python",
   "name": "python3"
  },
  "language_info": {
   "codemirror_mode": {
    "name": "ipython",
    "version": 3
   },
   "file_extension": ".py",
   "mimetype": "text/x-python",
   "name": "python",
   "nbconvert_exporter": "python",
   "pygments_lexer": "ipython3",
   "version": "3.11.4"
  },
  "orig_nbformat": 4
 },
 "nbformat": 4,
 "nbformat_minor": 2
}
