{
 "cells": [
  {
   "cell_type": "code",
   "execution_count": 481,
   "metadata": {},
   "outputs": [],
   "source": [
    "import random"
   ]
  },
  {
   "cell_type": "code",
   "execution_count": 482,
   "metadata": {},
   "outputs": [],
   "source": [
    "class Universitas:\n",
    "    total_mahasiswa = 0\n",
    "    anggaran = 0\n",
    "\n",
    "    def __init__(self, nama_kampus, prodi):\n",
    "        self.nama = nama_kampus\n",
    "        self.prodi = prodi\n",
    "\n",
    "    def hitung_dosen_kampus(self):\n",
    "        total = 0\n",
    "        for program_studi in self.prodi:\n",
    "            total += program_studi.dosen\n",
    "        return total\n"
   ]
  },
  {
   "cell_type": "code",
   "execution_count": 483,
   "metadata": {},
   "outputs": [],
   "source": [
    "class Prodi:\n",
    "    def __init__(self, nama, ukt, kode):\n",
    "        self.nama = nama\n",
    "        self.kode = kode\n",
    "        self.ukt = ukt\n",
    "        self.angkatan = []\n",
    "        self.kelas = []\n",
    "        self.dosen = 0\n",
    "\n",
    "    def tambah_angkatan_prodi(self, angkatan):\n",
    "        self.angkatan.append(angkatan)\n",
    "\n",
    "    def hitung_mahasiswa_prodi(self):\n",
    "        total = 0\n",
    "        for tiap_angkatan in self.angkatan:\n",
    "            total += tiap_angkatan.hitung_mahasiswa_angkatan()\n",
    "        return total\n"
   ]
  },
  {
   "cell_type": "code",
   "execution_count": 484,
   "metadata": {},
   "outputs": [],
   "source": [
    "class Angkatan:\n",
    "    def __init__(self, tahun):\n",
    "        self.tahun = tahun\n",
    "        self.mahasiswa = []\n",
    "\n",
    "    def tambah_mahasiswa_angkatan(self, mahasiswa):\n",
    "        self.mahasiswa.append(mahasiswa)\n",
    "\n",
    "    def hitung_mahasiswa_angkatan(self):\n",
    "        return len(self.mahasiswa)"
   ]
  },
  {
   "cell_type": "code",
   "execution_count": 485,
   "metadata": {},
   "outputs": [],
   "source": [
    "class Mahasiswa:\n",
    "    def __init__(self,NIM):\n",
    "        self.NIM = NIM"
   ]
  },
  {
   "cell_type": "code",
   "execution_count": 486,
   "metadata": {},
   "outputs": [],
   "source": [
    "class Kelas:\n",
    "    def __init__(self,nama_kelas):\n",
    "        self.nama_kelas = nama_kelas\n",
    "        self.mahasiswa = []\n",
    "    def tambah_mahasiswa_kelas(self,mahasiswa):\n",
    "        self.mahasiswa.append(mahasiswa)\n",
    "    def hitung_mahasiswa_kelas():\n",
    "        return len(self.mahasiswa)"
   ]
  },
  {
   "cell_type": "code",
   "execution_count": 487,
   "metadata": {},
   "outputs": [],
   "source": [
    "prodi = [Prodi(\"Informatika\",7000000,\"IF\"),\n",
    "         Prodi(\"Sistem Informasi\",8000000,\"SI\"),\n",
    "         Prodi(\"Teknologi Indormasi\",8000000,\"TI\"),\n",
    "         Prodi(\"Rekayasa Perangkat Lunak\",8500000,\"RPL\"),\n",
    "         Prodi(\"Sains Data\",7000000,\"DS\")]"
   ]
  },
  {
   "cell_type": "code",
   "execution_count": 488,
   "metadata": {},
   "outputs": [],
   "source": [
    "TelkomMadura = Universitas(\"Telkom Madura\",prodi)"
   ]
  },
  {
   "cell_type": "code",
   "execution_count": 489,
   "metadata": {},
   "outputs": [],
   "source": [
    "def proses_mendaftar(NIM,tahun_angkatan):\n",
    "    # MEMILIH PRODI\n",
    "    prodi_terpilih = random.randint(0,4)\n",
    "    mahasiswa_baru = Mahasiswa(NIM)\n",
    "    prodi[prodi_terpilih].angkatan[tahun_angkatan].mahasiswa.append(mahasiswa_baru)\n",
    "    \n",
    "    # PEMBAYARAN\n",
    "    BiayaUP3 = 8000000\n",
    "    BiayaSDP = 12150000\n",
    "    BiayaUKT = prodi[prodi_terpilih].ukt\n",
    "    Total = BiayaSDP + BiayaUKT + BiayaUP3\n",
    "    return Total"
   ]
  },
  {
   "cell_type": "code",
   "execution_count": 490,
   "metadata": {},
   "outputs": [],
   "source": [
    "def membuat_kelas(prodi,angkatan):\n",
    "    for program_studi in prodi:\n",
    "        total_mahasiswa = program_studi.angkatan[angkatan].hitung_mahasiswa_angkatan()\n",
    "        total_kelas = total_mahasiswa // 30\n",
    "        kode_kelas = 0\n",
    "        for _ in total_kelas:\n",
    "            program_studi.kelas.append(f\"{program_studi.kode}-{angkatan}-{kode_kelas + 1}\") # menambahkan kelas baru\n",
    "            for mahasiswa in program_studi.angkatan[angkatan].mahasiswa: # looping ke mahasiswa di angkatan tertentu\n",
    "                program_studi.kelas[kode_kelas].mahasiswa.append(mahasiswa) # menambahkan mahasiswa ke kelas\n",
    "                if program_studi.kelas[kode_kelas].hitung_mahasiswa == 30: # jika mahasiswa per kelas sudah 30 maka break dan buat kelas baru\n",
    "                    break\n",
    "            kode_kelas += 1\n",
    "            \n",
    "        if total_mahasiswa - total_mahasiswa * 30 != 0:\n",
    "            sisa_mahasiswa = total_mahasiswa - total_mahasiswa * 30 \n",
    "            for sisa in range(total_mahasiswa-sisa_mahasiswa,total_mahasiswa): # looping dari mahasiswa yang belum dapat kelas\n",
    "                program_studi.kelas.append(f\"{program_studi.kode}-{angkatan}-{kode_kelas + 1}\") # menambahkan kelas baru\n",
    "                program_studi.kelas[kode_kelas].mahasiswa.append(program_studi.angkatan[angkatan].mahasiswa[sisa]) # menambahkan mahasiswa sisa ke kelas baru\n",
    "                if program_studi.kelas[kode_kelas].hitung_mahasiswa == 30: # jika mahasiswa per kelas sudah 30 maka break dan buat kelas baru\n",
    "                    break\n",
    "            kode_kelas += 1\n",
    "        # KEBUTUHAN DOSEN\n",
    "        hitung_kebutuhan_dosen(program_studi)"
   ]
  },
  {
   "cell_type": "code",
   "execution_count": 491,
   "metadata": {},
   "outputs": [],
   "source": [
    "def hitung_kebutuhan_dosen(program_studi):\n",
    "    total_mahasiswa = program_studi.hitung_mahasiswa_prodi()\n",
    "    kebutuhan_dosen = total_mahasiswa // 60\n",
    "    program_studi.dosen = kebutuhan_dosen"
   ]
  },
  {
   "cell_type": "code",
   "execution_count": 492,
   "metadata": {},
   "outputs": [],
   "source": [
    "def pengeluaran_kampus(bulan):\n",
    "    gajiDosen = 7000000 * TelkomMadura.hitung_dosen_kampus()\n",
    "    pengeluaran = 0.7 * TelkomMadura.anggaran / 12  + gajiDosen\n",
    "    if bulan == 12:\n",
    "        pengeluaran += 2000000\n",
    "    return pengeluaran"
   ]
  },
  {
   "cell_type": "code",
   "execution_count": 493,
   "metadata": {},
   "outputs": [],
   "source": [
    "def hitung_mahasiswa(tahun_angkatan):\n",
    "    total = 0\n",
    "    for program_studi in prodi:\n",
    "        program_studi"
   ]
  },
  {
   "cell_type": "code",
   "execution_count": 494,
   "metadata": {},
   "outputs": [],
   "source": [
    "def simulasi_kampus(tahun_start,tahun_terakhir):\n",
    "    angkatan = tahun_start\n",
    "    growth_factor = 1.02 # kenaikan atau penurunan mahasiswa calon pendaftar\n",
    "    mahasiswa = random.randint(1,100) # kemungkinan mahasiswa calon pendaftar\n",
    "    nim = 1 # NIM atau ID mahasiswa\n",
    "    cashflow = []\n",
    "    # SIMULASI\n",
    "    for tahun in range(tahun_terakhir - tahun_start):\n",
    "        print(angkatan)\n",
    "        # Membuat Angkatan Baru di Tiap Prodi\n",
    "        for program_studi in prodi:\n",
    "            program_studi.tambah_angkatan_prodi(Angkatan(tahun))\n",
    "        for bulan in range(1,13):\n",
    "            pemasukan = 0\n",
    "            if(bulan == 2 or bulan == 9):\n",
    "                pemasukan += bayar_ukt(prodi)\n",
    "            # PENDAFTARAN   \n",
    "            for _ in range(30): \n",
    "                if random.random() < 0.5: # Kemungkinan kenaikan calon pendaftar\n",
    "                    mahasiswa +=  int(mahasiswa * random.uniform(0.05, 0.5) * growth_factor)\n",
    "                else:\n",
    "                    mahasiswa -= int(mahasiswa * random.uniform(0.05, 0.5) * growth_factor)\n",
    "                # Mahasiswa Mendaftar\n",
    "                for _ in range(mahasiswa):\n",
    "                    if random.random() < 0.5:\n",
    "                        pemasukan += proses_mendaftar(nim,tahun)\n",
    "                        nim += 1\n",
    "                    if hitung_mahasiswa(prodi) == 600:\n",
    "                        break\n",
    "        \n",
    "            # PENGELUARAN TIAP BULAN\n",
    "            pengeluaran = pengeluaran_kampus(bulan)\n",
    "            TelkomMadura.anggaran -= pengeluaran\n",
    "            cashflow.append([angkatan,bulan,pemasukan,pengeluaran,TelkomMadura.anggaran])\n",
    "        \n",
    "        # PEMBAGIAN KELAS\n",
    "        pembagian_kelas(tahun)\n",
    "        angkatan += 1\n",
    "        \n",
    "    return cashflow"
   ]
  },
  {
   "cell_type": "code",
   "execution_count": 495,
   "metadata": {},
   "outputs": [
    {
     "name": "stdout",
     "output_type": "stream",
     "text": [
      "2021\n"
     ]
    },
    {
     "ename": "NameError",
     "evalue": "name 'bayar_ukt' is not defined",
     "output_type": "error",
     "traceback": [
      "\u001b[1;31m---------------------------------------------------------------------------\u001b[0m",
      "\u001b[1;31mNameError\u001b[0m                                 Traceback (most recent call last)",
      "Cell \u001b[1;32mIn[495], line 1\u001b[0m\n\u001b[1;32m----> 1\u001b[0m result \u001b[39m=\u001b[39m simulasi_kampus(\u001b[39m2021\u001b[39;49m,\u001b[39m2025\u001b[39;49m)\n\u001b[0;32m      2\u001b[0m result\n",
      "Cell \u001b[1;32mIn[494], line 16\u001b[0m, in \u001b[0;36msimulasi_kampus\u001b[1;34m(tahun_start, tahun_terakhir)\u001b[0m\n\u001b[0;32m     14\u001b[0m pemasukan \u001b[39m=\u001b[39m \u001b[39m0\u001b[39m\n\u001b[0;32m     15\u001b[0m \u001b[39mif\u001b[39;00m(bulan \u001b[39m==\u001b[39m \u001b[39m2\u001b[39m \u001b[39mor\u001b[39;00m bulan \u001b[39m==\u001b[39m \u001b[39m9\u001b[39m):\n\u001b[1;32m---> 16\u001b[0m     pemasukan \u001b[39m+\u001b[39m\u001b[39m=\u001b[39m bayar_ukt(prodi)\n\u001b[0;32m     17\u001b[0m \u001b[39m# PENDAFTARAN   \u001b[39;00m\n\u001b[0;32m     18\u001b[0m \u001b[39mfor\u001b[39;00m _ \u001b[39min\u001b[39;00m \u001b[39mrange\u001b[39m(\u001b[39m30\u001b[39m): \n",
      "\u001b[1;31mNameError\u001b[0m: name 'bayar_ukt' is not defined"
     ]
    }
   ],
   "source": [
    "result = simulasi_kampus(2021,2025)\n",
    "result"
   ]
  },
  {
   "cell_type": "code",
   "execution_count": null,
   "metadata": {},
   "outputs": [
    {
     "data": {
      "text/plain": [
       "0"
      ]
     },
     "execution_count": 150,
     "metadata": {},
     "output_type": "execute_result"
    }
   ],
   "source": [
    "prodi[0].angkatan[0].hitung_mahasiswa()"
   ]
  }
 ],
 "metadata": {
  "kernelspec": {
   "display_name": "modsim",
   "language": "python",
   "name": "python3"
  },
  "language_info": {
   "codemirror_mode": {
    "name": "ipython",
    "version": 3
   },
   "file_extension": ".py",
   "mimetype": "text/x-python",
   "name": "python",
   "nbconvert_exporter": "python",
   "pygments_lexer": "ipython3",
   "version": "3.11.4"
  },
  "orig_nbformat": 4
 },
 "nbformat": 4,
 "nbformat_minor": 2
}
