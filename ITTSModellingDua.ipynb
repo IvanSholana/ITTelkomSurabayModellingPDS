{
 "cells": [
  {
   "cell_type": "code",
   "execution_count": 1,
   "metadata": {},
   "outputs": [],
   "source": [
    "import random"
   ]
  },
  {
   "cell_type": "code",
   "execution_count": 2,
   "metadata": {},
   "outputs": [],
   "source": [
    "class Kampus:\n",
    "    anggaran = 0\n",
    "    maksimal_mahasiswa = 4000\n",
    "    angkatan = []\n",
    "    total_dosen = 0\n",
    "    total_mahasiswa = 0\n",
    "    \n",
    "    def __init__(self,nama,prodi):\n",
    "        self.nama = nama\n",
    "        self.prodi = prodi\n",
    "    \n",
    "    def angkatan_lulus(self,jumlah_mahasiswa_lulus):\n",
    "        self.angkatan.pop(0)\n",
    "        self.total_mahasiswa -= jumlah_mahasiswa_lulus\n",
    "        \n",
    "    def tambah_anggaran(self,income):\n",
    "        self.anggaran += income\n",
    "            \n",
    "class Prodi:\n",
    "    angkatan = []\n",
    "    kelas = []\n",
    "    mahasiswa = []\n",
    "    total_mahasiswa = 0\n",
    "    def __init__(self,nama_prodi,UKT,kode_prodi):\n",
    "        self.nama_prodi = nama_prodi\n",
    "        self.kode_prodi = kode_prodi    \n",
    "        self.UKT = UKT\n",
    "        \n",
    "    def tambah_angkatan(self,angkatan):\n",
    "        self.angkatan.append(angkatan)\n",
    "\n",
    "class Angkatan:\n",
    "    kelas = []\n",
    "    mahasiswa = []\n",
    "    def __init__(self,tahun_angkatan):\n",
    "        self.tahun_angkatan = tahun_angkatan\n",
    "    \n",
    "    def tambah_mahasiswa(self,mahasiswa):\n",
    "        self.mahasiswa.append(mahasiswa)\n",
    "    \n",
    "    def tambah_kelas(self,kelas):\n",
    "        self.kelas.append(kelas)\n",
    "\n",
    "class Kelas:\n",
    "    jumlah_mahasiswa = 0\n",
    "    def __init__(self,nama_kelas):\n",
    "        self.nama_kelas = nama_kelas\n",
    "\n",
    "class Mahasiswa:\n",
    "    def __init__(self,NIM,prodi,angkatan):\n",
    "        self.NIM = NIM\n",
    "        self.prodi = prodi\n",
    "        self.angkatan = angkatan"
   ]
  },
  {
   "cell_type": "code",
   "execution_count": 3,
   "metadata": {},
   "outputs": [],
   "source": [
    "prodi = [Prodi(\"Informatika\",7000000,\"IF\"),\n",
    "         Prodi(\"Sistem Informasi\",8000000,\"SI\"),\n",
    "         Prodi(\"Teknologi Indormasi\",8000000,\"TI\"),\n",
    "         Prodi(\"Rekayasa Perangkat Lunak\",8500000,\"RPL\"),\n",
    "         Prodi(\"Sains Data\",7000000,\"DS\")]"
   ]
  },
  {
   "cell_type": "code",
   "execution_count": 4,
   "metadata": {},
   "outputs": [],
   "source": [
    "Universitas = Kampus(\"Institut Teknologi Telkom Surabaya\",prodi)"
   ]
  },
  {
   "cell_type": "code",
   "execution_count": 5,
   "metadata": {},
   "outputs": [],
   "source": [
    "def bayar_ukt(prodi):\n",
    "    total_ukt = 0\n",
    "    for each_prodi in prodi:\n",
    "        total_ukt += each_prodi.total_mahasiswa * each_prodi.UKT\n",
    "    return total_ukt"
   ]
  },
  {
   "cell_type": "code",
   "execution_count": null,
   "metadata": {},
   "outputs": [],
   "source": [
    "def hitung_mahasiswa(prodi):\n",
    "    total = 0\n",
    "    for each_prodi in prodi:\n",
    "        total += each_prodi.total_mahasiswa\n",
    "    return total"
   ]
  },
  {
   "cell_type": "code",
   "execution_count": 6,
   "metadata": {},
   "outputs": [],
   "source": [
    "def proses_mendaftar(NIM,tahun_angkatan):\n",
    "    # MEMILIH PRODI\n",
    "    prodi_terpilih = random.randint(0,4)\n",
    "    mahasiswa_baru = Mahasiswa(NIM,prodi[prodi_terpilih].nama_prodi,tahun_angkatan)\n",
    "    Universitas.prodi[prodi_terpilih].mahasiswa.append(mahasiswa_baru)\n",
    "    Universitas.prodi[prodi_terpilih].total_mahasiswa += 1\n",
    "    \n",
    "    # PEMBAYARAN\n",
    "    BiayaUP3 = 8000000\n",
    "    BiayaSDP = 12150000\n",
    "    BiayaUKT = Universitas.prodi[prodi_terpilih].UKT\n",
    "    Total = BiayaSDP + BiayaUKT + BiayaUP3\n",
    "    return Total"
   ]
  },
  {
   "cell_type": "code",
   "execution_count": null,
   "metadata": {},
   "outputs": [],
   "source": [
    "def pengeluaran_kampus(bulan):\n",
    "     gajiDosen = 7000000 * ITTelkom.dosen\n",
    "     pengeluaran = 0.7 * ITTelkom.anggaran / 12  + gajiDosen\n",
    "     if bulan == 12:\n",
    "          pengeluaran += 2000000\n",
    "     return pengeluaran"
   ]
  },
  {
   "cell_type": "code",
   "execution_count": null,
   "metadata": {},
   "outputs": [],
   "source": [
    "def pembagian_kelas(tahun):\n",
    "    for program_studi in prodi:\n",
    "        total_mahasiswa = program_studi.total_mahasiswa\n",
    "        kelas = total_mahasiswa // 30\n",
    "        program_studi.angkatan[tahun]\n",
    "        \n",
    "        program_studi.dosen += total_mahasiswa // 40\n",
    "        ITTelkom.dosen += program_studi.dosen\n",
    "        \n",
    "        # Buat Kelas\n",
    "        for i in range(1,kelas + 1):\n",
    "            program_studi.tambah_kelas(Kelas(f\"{program_studi.kodeProdi}-{angkatan % 2000}-{i}\"))\n",
    "        \n",
    "        for x in program_studi.kelas:\n",
    "            for i in range(30):\n",
    "                x.tambahMahasiswa(program_studi.mahasiswa[i])\n",
    "        \n",
    "        # Pembagian\n",
    "        if kelas * 30 < len(program_studi.mahasiswa):\n",
    "            program_studi.tambah_kelas(Kelas(f\"{program_studi.kodeProdi}-{angkatan % 2000}-{kelas+ 1}\"))\n",
    "            for i in range(kelas * 30 + 1, len(program_studi.mahasiswa)):\n",
    "                program_studi.kelas[-1].tambahMahasiswa(program_studi.mahasiswa[i])"
   ]
  },
  {
   "cell_type": "code",
   "execution_count": 7,
   "metadata": {},
   "outputs": [
    {
     "ename": "SyntaxError",
     "evalue": "incomplete input (2219089802.py, line 25)",
     "output_type": "error",
     "traceback": [
      "\u001b[1;36m  Cell \u001b[1;32mIn[7], line 25\u001b[1;36m\u001b[0m\n\u001b[1;33m    \u001b[0m\n\u001b[1;37m    ^\u001b[0m\n\u001b[1;31mSyntaxError\u001b[0m\u001b[1;31m:\u001b[0m incomplete input\n"
     ]
    }
   ],
   "source": [
    "def simulas_kampus(tahun_start,tahun_terakhir):\n",
    "    angkatan = tahun_start\n",
    "    growth_factor = 1.02 # kenaikan atau penurunan mahasiswa calon pendaftar\n",
    "    mahasiswa = random.randint(1,100) # kemungkinan mahasiswa calon pendaftar\n",
    "    nim = 1 # NIM atau ID mahasiswa\n",
    "    cashflow = []\n",
    "    # SIMULASI\n",
    "    for tahun in range(tahun_terakhir,tahun_start):\n",
    "        for each_prodi in Universitas.prodi:\n",
    "            each_prodi.angkatan.append(Angkatan(angkatan))\n",
    "        for bulan in range(1,13):\n",
    "            pemasukan = 0\n",
    "            if(bulan == 2 or bulan == 9):\n",
    "                pemasukan += bayar_ukt(prodi)\n",
    "            # PENDAFTARAN   \n",
    "            for _ in range(30): \n",
    "                if random.random() < 0.5: # Kemungkinan kenaikan calon pendaftar\n",
    "                    mahasiswa +=  int(mahasiswa * random.uniform(0.05, 0.5) * growth_factor)\n",
    "                else:\n",
    "                    mahasiswa -= int(mahasiswa * random.uniform(0.05, 0.5) * growth_factor)\n",
    "                # Mahasiswa Mendaftar\n",
    "                for _ in range(mahasiswa):\n",
    "                    if random.random() < 0.5:\n",
    "                        pemasukan += proses_mendaftar(nim,angkatan)\n",
    "                        nim += 1\n",
    "                    if hitung_mahasiswa(prodi) == 600:\n",
    "                        break\n",
    "        \n",
    "            # PENGELUARAN TIAP BULAN\n",
    "            pengeluaran = pengeluaran_kampus(bulan)\n",
    "            Universitas.anggaran -= pengeluaran\n",
    "            cashflow.append([angkatan,bulan,pemasukan,pengeluaran,Universitas.anggaran])\n",
    "        \n",
    "        # PEMBAGIAN KELAS\n",
    "        pembagian_kelas(tahun)\n",
    "        angkatan += 1\n",
    "    \n",
    "    return cashflow"
   ]
  }
 ],
 "metadata": {
  "kernelspec": {
   "display_name": "modsim",
   "language": "python",
   "name": "python3"
  },
  "language_info": {
   "codemirror_mode": {
    "name": "ipython",
    "version": 3
   },
   "file_extension": ".py",
   "mimetype": "text/x-python",
   "name": "python",
   "nbconvert_exporter": "python",
   "pygments_lexer": "ipython3",
   "version": "3.11.4"
  },
  "orig_nbformat": 4
 },
 "nbformat": 4,
 "nbformat_minor": 2
}
