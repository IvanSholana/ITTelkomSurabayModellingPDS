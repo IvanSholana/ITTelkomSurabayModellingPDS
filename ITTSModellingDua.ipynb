{
 "cells": [
  {
   "cell_type": "code",
   "execution_count": 4,
   "metadata": {},
   "outputs": [],
   "source": [
    "import random"
   ]
  },
  {
   "cell_type": "code",
   "execution_count": 5,
   "metadata": {},
   "outputs": [],
   "source": [
    "class Kampus:\n",
    "    anggaran = 0\n",
    "    maksimal_mahasiswa = 4000\n",
    "    angkatan = []\n",
    "    total_dosen = 0\n",
    "    total_mahasiswa = 0\n",
    "    \n",
    "    def __init__(self,nama,prodi):\n",
    "        self.nama = nama\n",
    "        self.prodi = prodi\n",
    "    \n",
    "    def angkatan_lulus(self,jumlah_mahasiswa_lulus):\n",
    "        self.angkatan.pop(0)\n",
    "        self.total_mahasiswa -= jumlah_mahasiswa_lulus\n",
    "        \n",
    "    def tambah_anggaran(self,income):\n",
    "        self.anggaran += income\n",
    "            \n",
    "class Prodi:\n",
    "    angkatan = []\n",
    "    kelas = []\n",
    "    mahasiswa = []\n",
    "    def __init__(self,nama_prodi,UKT,kode_prodi):\n",
    "        self.nama_prodi = nama_prodi\n",
    "        self.kode_prodi = kode_prodi    \n",
    "        self.UKT = UKT\n",
    "        \n",
    "    def tambah_angkatan(self,angkatan):\n",
    "        self.angkatan.append(angkatan)\n",
    "\n",
    "class Angkatan:\n",
    "    kelas = []\n",
    "    mahasiswa = []\n",
    "    def __init__(self,tahun_angkatan):\n",
    "        self.tahun_angkatan = tahun_angkatan\n",
    "    \n",
    "    def tambah_mahasiswa(self,mahasiswa):\n",
    "        self.mahasiswa.append(mahasiswa)\n",
    "    \n",
    "    def tambah_kelas(self,kelas):\n",
    "        self.kelas.append(kelas)\n",
    "\n",
    "class Kelas:\n",
    "    jumlah_mahasiswa = 0\n",
    "    def __init__(self,nama_kelas):\n",
    "        self.nama_kelas = nama_kelas\n",
    "\n",
    "class Mahasiswa:\n",
    "    def __init__(self,NIM,prodi,angkatan):\n",
    "        self.NIM = NIM\n",
    "        self.prodi = prodi\n",
    "        self.angkatan = angkatan"
   ]
  },
  {
   "cell_type": "code",
   "execution_count": 6,
   "metadata": {},
   "outputs": [],
   "source": [
    "prodi = [Prodi(\"Informatika\",7000000,\"IF\"),\n",
    "         Prodi(\"Sistem Informasi\",8000000,\"SI\"),\n",
    "         Prodi(\"Teknologi Indormasi\",8000000,\"TI\"),\n",
    "         Prodi(\"Rekayasa Perangkat Lunak\",8500000,\"RPL\"),\n",
    "         Prodi(\"Sains Data\",7000000,\"DS\")]"
   ]
  },
  {
   "cell_type": "code",
   "execution_count": 7,
   "metadata": {},
   "outputs": [],
   "source": [
    "Universitas = Kampus(\"Institut Teknologi Telkom Surabaya\",prodi)"
   ]
  },
  {
   "cell_type": "code",
   "execution_count": 8,
   "metadata": {},
   "outputs": [],
   "source": [
    "def bayar_ukt():\n",
    "    return"
   ]
  },
  {
   "cell_type": "code",
   "execution_count": null,
   "metadata": {},
   "outputs": [],
   "source": []
  },
  {
   "cell_type": "code",
   "execution_count": 9,
   "metadata": {},
   "outputs": [],
   "source": [
    "def proses_mendaftar(NIM,tahun_angkatan):\n",
    "    # MEMILIH PRODI\n",
    "    prodi_terpilih = random.randint(0,4)\n",
    "    mahasiswa_baru = Mahasiswa(NIM,prodi[prodi_terpilih].nama_prodi,tahun_angkatan)\n",
    "    Universitas.prodi[prodi_terpilih].mahasiswa.append(mahasiswa_baru)\n",
    "    \n",
    "    # PEMBAYARAN\n",
    "    BiayaUP3 = 8000000\n",
    "    BiayaSDP = 12150000\n",
    "    BiayaUKT = Universitas.prodi[prodi_terpilih].UKT\n",
    "    Universitas.tambah_anggaran(BiayaUP3 + BiayaSDP + BiayaUKT)\n",
    "    "
   ]
  },
  {
   "cell_type": "code",
   "execution_count": 10,
   "metadata": {},
   "outputs": [
    {
     "ename": "SyntaxError",
     "evalue": "incomplete input (2219089802.py, line 25)",
     "output_type": "error",
     "traceback": [
      "\u001b[1;36m  Cell \u001b[1;32mIn[10], line 25\u001b[1;36m\u001b[0m\n\u001b[1;33m    \u001b[0m\n\u001b[1;37m    ^\u001b[0m\n\u001b[1;31mSyntaxError\u001b[0m\u001b[1;31m:\u001b[0m incomplete input\n"
     ]
    }
   ],
   "source": [
    "def simulas_kampus(tahun_start,tahun_terakhir):\n",
    "    angkatan = tahun_start\n",
    "    growth_factor = 1.02 # kenaikan atau penurunan mahasiswa calon pendaftar\n",
    "    mahasiswa = random.randint(1,100) # kemungkinan mahasiswa calon pendaftar\n",
    "    nim = 1 # NIM atau ID mahasiswa\n",
    "    # SIMULASI\n",
    "    for tahun in range(tahun_terakhir,tahun_start):\n",
    "        for each_prodi in Universitas.prodi:\n",
    "            each_prodi.angkatan.append(Angkatan(tahun))\n",
    "        for bulan in range(1,13):\n",
    "            if(bulan == 2 or bulan == 9):\n",
    "                pass\n",
    "        \n",
    "        # PENDAFTARAN   \n",
    "        for hari in range(30): \n",
    "            if random.random() < 0.5: # Kemungkinan kenaikan calon pendaftar\n",
    "                mahasiswa +=  int(mahasiswa * random.uniform(0.05, 0.5) * growth_factor)\n",
    "            else:\n",
    "                mahasiswa -= int(mahasiswa * random.uniform(0.05, 0.5) * growth_factor)\n",
    "            # Mahasiswa Mendaftar\n",
    "            for _ in range(mahasiswa):\n",
    "                \n",
    "        \n",
    "        \n",
    "    "
   ]
  }
 ],
 "metadata": {
  "kernelspec": {
   "display_name": "modsim",
   "language": "python",
   "name": "python3"
  },
  "language_info": {
   "codemirror_mode": {
    "name": "ipython",
    "version": 3
   },
   "file_extension": ".py",
   "mimetype": "text/x-python",
   "name": "python",
   "nbconvert_exporter": "python",
   "pygments_lexer": "ipython3",
   "version": "3.11.4"
  },
  "orig_nbformat": 4
 },
 "nbformat": 4,
 "nbformat_minor": 2
}
