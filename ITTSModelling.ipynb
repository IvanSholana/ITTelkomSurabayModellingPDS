{
 "cells": [
  {
   "cell_type": "code",
   "execution_count": null,
   "metadata": {},
   "outputs": [],
   "source": [
    "import random\n",
    "import math"
   ]
  },
  {
   "cell_type": "code",
   "execution_count": null,
   "metadata": {},
   "outputs": [],
   "source": [
    "class Mahasiswa:\n",
    "    def __init__(self,id,prodi,angkatan):\n",
    "        self.id = id\n",
    "        self.prodi = prodi\n",
    "        self.angkatan = angkatan\n",
    "        \n",
    "class Prodi:\n",
    "    def __init__(self,namaProdi,UKT,kodeProdi):\n",
    "        self.mahasiswa = []\n",
    "        self.nama_prodi = namaProdi\n",
    "        self.kodeProdi = kodeProdi\n",
    "        self.angkatan = []\n",
    "        self.kelas = []\n",
    "        self.UKT = UKT\n",
    "        \n",
    "    def tambah_kelas(self,nama_kelas):\n",
    "        self.kelas.append(nama_kelas)\n",
    "    \n",
    "    def tambah_angkatan(self,tahunAngkatan):\n",
    "        self.angkatan.append(tahunAngkatan)\n",
    "        \n",
    "    def tambah_mahasiswa(self,mahasiswa):\n",
    "        self.mahasiswa.append(mahasiswa)\n",
    "        \n",
    "\n",
    "class Kelas:\n",
    "    def __init__(self,nama_kelas):\n",
    "        self.nama_kelas = nama_kelas\n",
    "        self.mahasiswa = []\n",
    "        \n",
    "    def tambahMahasiswa(self,namaMahasiswa):\n",
    "        self.mahasiswa.append(namaMahasiswa)"
   ]
  },
  {
   "cell_type": "code",
   "execution_count": null,
   "metadata": {},
   "outputs": [],
   "source": [
    "prodi = [Prodi(\"Informatika\",7000000,\"IF\"),\n",
    "         Prodi(\"Sistem Informasi\",8000000,\"SI\"),\n",
    "         Prodi(\"Teknologi Indormasi\",8000000,\"TI\"),\n",
    "         Prodi(\"Rekayasa Perangkat Lunak\",8500000,\"RPL\"),\n",
    "         Prodi(\"Sains Data\",7000000,\"DS\")]"
   ]
  },
  {
   "cell_type": "code",
   "execution_count": null,
   "metadata": {},
   "outputs": [],
   "source": [
    "def hitungMahasiswa(prodi):\n",
    "    total = 0\n",
    "    for i in prodi:\n",
    "        total += len(i.mahasiswa)\n",
    "    return total"
   ]
  },
  {
   "cell_type": "code",
   "execution_count": null,
   "metadata": {},
   "outputs": [],
   "source": [
    "def pembagianKelas(prodi,angkatan):\n",
    "    for program_studi in prodi:\n",
    "        total_mahasiswa = len(program_studi.mahasiswa)\n",
    "        kelas = total_mahasiswa // 30\n",
    "        \n",
    "        # Buat Kelas\n",
    "        for i in range(1,kelas + 1):\n",
    "            program_studi.tambah_kelas(Kelas(f\"{program_studi.kodeProdi}-{angkatan % 2000}-{i}\"))\n",
    "        \n",
    "        for x in program_studi.kelas:\n",
    "            for i in range(30):\n",
    "                x.tambahMahasiswa(program_studi.mahasiswa[i])\n",
    "        \n",
    "        # Pembagian\n",
    "        if kelas * 30 < len(program_studi.mahasiswa):\n",
    "            program_studi.tambah_kelas(Kelas(f\"{program_studi.kodeProdi}-{angkatan % 2000}-{len(program_studi.kelas) + 1}\"))\n",
    "            for i in range(kelas * 30 + 1, len(program_studi.mahasiswa)):\n",
    "                program_studi.kelas[-1].tambahMahasiswa(program_studi.mahasiswa[i])"
   ]
  },
  {
   "cell_type": "code",
   "execution_count": null,
   "metadata": {},
   "outputs": [],
   "source": [
    "a = 0\n",
    "angkatan = 2021\n",
    "growth_factor = 1.02\n",
    "mahasiswa = random.randint(1,100)\n",
    "\n",
    "for _ in range(12):    \n",
    "    for _ in range(30):\n",
    "        if random.random() < 0.5:\n",
    "            mahasiswa += int(mahasiswa * random.uniform(0.05, 0.5) * growth_factor)\n",
    "        else:\n",
    "            mahasiswa -= int(mahasiswa * random.uniform(0.05, 0.5) * growth_factor)\n",
    "\n",
    "        for _ in range(random.randint(1,mahasiswa)):\n",
    "            if hitungMahasiswa(prodi) == 600:\n",
    "                break \n",
    "            if random.random() < 0.5:\n",
    "                prodiID = random.randint(0, 4)\n",
    "                a += 1\n",
    "                prodi[prodiID].tambah_mahasiswa(Mahasiswa(a, prodi[prodiID], angkatan))        "
   ]
  },
  {
   "cell_type": "code",
   "execution_count": null,
   "metadata": {},
   "outputs": [],
   "source": [
    "pembagianKelas(prodi,2021)"
   ]
  },
  {
   "cell_type": "code",
   "execution_count": null,
   "metadata": {},
   "outputs": [],
   "source": [
    "for i in prodi:\n",
    "    print(i.kodeProdi,end='\\n')\n",
    "    for x in i.kelas:\n",
    "        print(f\"{x.nama_kelas} : {[i.id for i in x.mahasiswa]}\")\n",
    "    print(\"\")"
   ]
  },
  {
   "cell_type": "code",
   "execution_count": null,
   "metadata": {},
   "outputs": [],
   "source": [
    "def hitung_pengeluaran_dosen(prodi):\n",
    "  \"\"\"\n",
    "  Pengeluaran dosen dalam 1 tahun\n",
    "  \"\"\"\n",
    "  jumlah_mahasiswa = hitungMahasiswa(prodi)\n",
    "  jumlah_dosen = jumlah_mahasiswa // 40\n",
    "  gaji_semua_dosen = jumlah_dosen * 800000 * 12 \n",
    "  return gaji_semua_dosen"
   ]
  },
  {
   "cell_type": "code",
   "execution_count": null,
   "metadata": {},
   "outputs": [],
   "source": [
    "def hitung_pengeluaran_operasional():\n",
    "  \"\"\"\n",
    "  Biaya operasional dalam 1 tahun\n",
    "  \"\"\"\n",
    "  biaya_sewa_gedung = 2000000\n",
    "  biaya_lain_lain = 1000000 * 12\n",
    "  biaya_operasional = biaya_sewa_gedung + biaya_lain_lain\n",
    "  return biaya_operasional"
   ]
  },
  {
   "cell_type": "code",
   "execution_count": null,
   "metadata": {},
   "outputs": [],
   "source": [
    "def hitung_pemasukkan_ukt(jumlah_mahasiswa):\n",
    "  \"\"\"\n",
    "  Hitung pemasukkan UKT tiap tahun\n",
    "  \"\"\"\n",
    "  pemasukkan_ukt = jumlah_mahasiswa * 2 * 8000000\n",
    "  return pemasukkan_ukt\n",
    "  "
   ]
  },
  {
   "cell_type": "code",
   "execution_count": null,
   "metadata": {},
   "outputs": [],
   "source": [
    "hitung_pemasukkan_ukt(hitungMahasiswa(prodi))"
   ]
  },
  {
   "cell_type": "code",
   "execution_count": null,
   "metadata": {},
   "outputs": [],
   "source": [
    "# Modelling\n",
    "tahun_aktif = []\n",
    "tahun_sekarang = 2021\n",
    "\n",
    "while True:\n",
    "  tahun_aktif.append(tahun_sekarang)\n",
    "  "
   ]
  },
  {
   "cell_type": "code",
   "execution_count": null,
   "metadata": {},
   "outputs": [],
   "source": [
    "[2021, 2022, 2023, 2024, 2025, 2026]"
   ]
  }
 ],
 "metadata": {
  "kernelspec": {
   "display_name": "base",
   "language": "python",
   "name": "python3"
  },
  "language_info": {
   "codemirror_mode": {
    "name": "ipython",
    "version": 3
   },
   "file_extension": ".py",
   "mimetype": "text/x-python",
   "name": "python",
   "nbconvert_exporter": "python",
   "pygments_lexer": "ipython3",
   "version": "3.11.2"
  },
  "orig_nbformat": 4
 },
 "nbformat": 4,
 "nbformat_minor": 2
}
