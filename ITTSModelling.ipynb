{
 "cells": [
  {
   "cell_type": "code",
   "execution_count": 788,
   "metadata": {},
   "outputs": [],
   "source": [
    "import random\n",
    "import math"
   ]
  },
  {
   "cell_type": "code",
   "execution_count": 789,
   "metadata": {},
   "outputs": [],
   "source": [
    "class Mahasiswa:\n",
    "    def __init__(self,id,prodi,angkatan):\n",
    "        self.id = id\n",
    "        self.prodi = prodi\n",
    "        self.angkatan = angkatan\n",
    "        \n",
    "class Prodi:\n",
    "    def __init__(self,namaProdi,UKT,kodeProdi):\n",
    "        self.mahasiswa = []\n",
    "        self.nama_prodi = namaProdi\n",
    "        self.kodeProdi = kodeProdi\n",
    "        self.angkatan = []\n",
    "        self.kelas = []\n",
    "        self.UKT = UKT\n",
    "        \n",
    "    def tambah_kelas(self,nama_kelas):\n",
    "        self.kelas.append(nama_kelas)\n",
    "    \n",
    "    def tambah_angkatan(self,tahunAngkatan):\n",
    "        self.angkatan.append(tahunAngkatan)\n",
    "        \n",
    "    def tambah_mahasiswa(self,mahasiswa):\n",
    "        self.mahasiswa.append(mahasiswa)\n",
    "        \n",
    "\n",
    "class Kelas:\n",
    "    def __init__(self,nama_kelas):\n",
    "        self.nama_kelas = nama_kelas\n",
    "        self.mahasiswa = []\n",
    "        \n",
    "    def tambahMahasiswa(self,namaMahasiswa):\n",
    "        self.mahasiswa.append(namaMahasiswa)"
   ]
  },
  {
   "cell_type": "code",
   "execution_count": 790,
   "metadata": {},
   "outputs": [],
   "source": [
    "prodi = [Prodi(\"Informatika\",7000000,\"IF\"),\n",
    "         Prodi(\"Sistem Informasi\",8000000,\"SI\"),\n",
    "         Prodi(\"Teknologi Indormasi\",8000000,\"TI\"),\n",
    "         Prodi(\"Rekayasa Perangkat Lunak\",8500000,\"RPL\"),\n",
    "         Prodi(\"Sains Data\",7000000,\"DS\")]"
   ]
  },
  {
   "cell_type": "code",
   "execution_count": 791,
   "metadata": {},
   "outputs": [],
   "source": [
    "def hitungMahasiswa(prodi):\n",
    "    total = 0\n",
    "    for i in prodi:\n",
    "        total += len(i.mahasiswa)\n",
    "    return total"
   ]
  },
  {
   "cell_type": "code",
   "execution_count": 792,
   "metadata": {},
   "outputs": [],
   "source": [
    "def pembagianKelas(prodi,angkatan):\n",
    "    for program_studi in prodi:\n",
    "        total_mahasiswa = len(program_studi.mahasiswa)\n",
    "        kelas = total_mahasiswa // 30\n",
    "        \n",
    "        # Buat Kelas\n",
    "        for i in range(1,kelas + 1):\n",
    "            program_studi.tambah_kelas(Kelas(f\"{program_studi.kodeProdi}-{angkatan % 2000}-{i}\"))\n",
    "        \n",
    "        for x in program_studi.kelas:\n",
    "            for i in range(30):\n",
    "                x.tambahMahasiswa(program_studi.mahasiswa[i])\n",
    "        \n",
    "        # Pembagian\n",
    "        if kelas * 30 < len(program_studi.mahasiswa):\n",
    "            program_studi.tambah_kelas(Kelas(f\"{program_studi.kodeProdi}-{angkatan % 2000}-{len(program_studi.kelas) + 1}\"))\n",
    "            for i in range(kelas * 30 + 1, len(program_studi.mahasiswa)):\n",
    "                program_studi.kelas[-1].tambahMahasiswa(program_studi.mahasiswa[i])"
   ]
  },
  {
   "cell_type": "code",
   "execution_count": 793,
   "metadata": {},
   "outputs": [],
   "source": [
    "a = 0\n",
    "angkatan = 2021\n",
    "growth_factor = 1.02\n",
    "mahasiswa = random.randint(1,100)\n",
    "\n",
    "for _ in range(12):    \n",
    "    for _ in range(30):\n",
    "        if random.random() < 0.5:\n",
    "            mahasiswa += int(mahasiswa * random.uniform(0.05, 0.5) * growth_factor)\n",
    "        else:\n",
    "            mahasiswa -= int(mahasiswa * random.uniform(0.05, 0.5) * growth_factor)\n",
    "\n",
    "        for _ in range(random.randint(1,mahasiswa)):\n",
    "            if hitungMahasiswa(prodi) == 600:\n",
    "                break \n",
    "            if random.random() < 0.5:\n",
    "                prodiID = random.randint(0, 4)\n",
    "                a += 1\n",
    "                prodi[prodiID].tambah_mahasiswa(Mahasiswa(a, prodi[prodiID], angkatan))        "
   ]
  },
  {
   "cell_type": "code",
   "execution_count": 794,
   "metadata": {},
   "outputs": [],
   "source": [
    "pembagianKelas(prodi,2021)"
   ]
  },
  {
   "cell_type": "code",
   "execution_count": 795,
   "metadata": {},
   "outputs": [
    {
     "name": "stdout",
     "output_type": "stream",
     "text": [
      "IF\n",
      "IF-21-1 : [3, 11, 19, 26, 37, 43, 48, 62, 63, 64, 71, 73, 76, 80, 81, 87, 91, 92, 101, 103, 113, 115, 123, 125, 126, 130, 131, 134, 140, 141]\n",
      "IF-21-2 : [3, 11, 19, 26, 37, 43, 48, 62, 63, 64, 71, 73, 76, 80, 81, 87, 91, 92, 101, 103, 113, 115, 123, 125, 126, 130, 131, 134, 140, 141]\n",
      "IF-21-3 : [303, 305, 308, 311, 316]\n",
      "\n",
      "SI\n",
      "SI-21-1 : [2, 4, 7, 13, 29, 32, 34, 35, 46, 47, 53, 70, 90, 94, 99, 104, 107, 122, 148, 153, 156, 158, 160, 162, 173, 188, 198, 200, 203, 205]\n",
      "SI-21-2 : [209, 218, 222, 223, 227, 234, 235, 236, 238, 240, 242, 245, 248, 256, 269, 270, 273, 275, 276, 279, 282, 284, 304, 309, 313]\n",
      "\n",
      "TI\n",
      "TI-21-1 : [8, 10, 14, 15, 17, 20, 21, 23, 27, 30, 38, 39, 40, 42, 51, 52, 61, 72, 75, 78, 82, 95, 96, 105, 108, 116, 118, 120, 121, 133]\n",
      "TI-21-2 : [152, 159, 164, 165, 174, 175, 176, 184, 185, 192, 197, 199, 210, 217, 231, 237, 249, 253, 255, 261, 268, 278, 285, 290, 298, 302, 310]\n",
      "\n",
      "RPL\n",
      "RPL-21-1 : [1, 5, 6, 16, 18, 22, 25, 41, 44, 45, 50, 54, 59, 60, 67, 74, 77, 79, 85, 89, 93, 97, 98, 106, 110, 112, 117, 127, 128, 136]\n",
      "RPL-21-2 : [1, 5, 6, 16, 18, 22, 25, 41, 44, 45, 50, 54, 59, 60, 67, 74, 77, 79, 85, 89, 93, 97, 98, 106, 110, 112, 117, 127, 128, 136]\n",
      "RPL-21-3 : [312, 314]\n",
      "\n",
      "DS\n",
      "DS-21-1 : [9, 12, 24, 28, 31, 33, 36, 49, 55, 56, 57, 58, 65, 66, 68, 69, 83, 84, 86, 88, 100, 102, 109, 111, 114, 119, 124, 129, 132, 135]\n",
      "DS-21-2 : [9, 12, 24, 28, 31, 33, 36, 49, 55, 56, 57, 58, 65, 66, 68, 69, 83, 84, 86, 88, 100, 102, 109, 111, 114, 119, 124, 129, 132, 135]\n",
      "DS-21-3 : [264, 265, 271, 287, 291, 293, 294, 295, 297, 301, 307, 315]\n",
      "\n"
     ]
    }
   ],
   "source": [
    "for i in prodi:\n",
    "    print(i.kodeProdi,end='\\n')\n",
    "    for x in i.kelas:\n",
    "        print(f\"{x.nama_kelas} : {[i.id for i in x.mahasiswa]}\")\n",
    "    print(\"\")"
   ]
  }
 ],
 "metadata": {
  "kernelspec": {
   "display_name": "base",
   "language": "python",
   "name": "python3"
  },
  "language_info": {
   "codemirror_mode": {
    "name": "ipython",
    "version": 3
   },
   "file_extension": ".py",
   "mimetype": "text/x-python",
   "name": "python",
   "nbconvert_exporter": "python",
   "pygments_lexer": "ipython3",
   "version": "3.10.9"
  },
  "orig_nbformat": 4
 },
 "nbformat": 4,
 "nbformat_minor": 2
}
