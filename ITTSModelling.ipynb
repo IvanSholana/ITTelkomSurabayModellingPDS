{
 "cells": [
  {
   "cell_type": "code",
   "execution_count": 719,
   "metadata": {},
   "outputs": [],
   "source": [
    "import random\n",
    "import math"
   ]
  },
  {
   "cell_type": "code",
   "execution_count": 720,
   "metadata": {},
   "outputs": [],
   "source": [
    "class Mahasiswa:\n",
    "    def __init__(self,id,prodi,angkatan):\n",
    "        self.id = id\n",
    "        self.prodi = prodi\n",
    "        self.angkatan = angkatan\n",
    "        \n",
    "class Prodi:\n",
    "    def __init__(self,namaProdi,UKT,kodeProdi):\n",
    "        self.mahasiswa = []\n",
    "        self.nama_prodi = namaProdi\n",
    "        self.kodeProdi = kodeProdi\n",
    "        self.angkatan = []\n",
    "        self.kelas = []\n",
    "        self.UKT = UKT\n",
    "        \n",
    "    def tambah_kelas(self,nama_kelas):\n",
    "        self.kelas.append(nama_kelas)\n",
    "    \n",
    "    def tambah_angkatan(self,tahunAngkatan):\n",
    "        self.angkatan.append(tahunAngkatan)\n",
    "        \n",
    "    def tambah_mahasiswa(self,mahasiswa):\n",
    "        self.mahasiswa.append(mahasiswa)\n",
    "        \n",
    "\n",
    "class Kelas:\n",
    "    def __init__(self,nama_kelas):\n",
    "        self.nama_kelas = nama_kelas\n",
    "        self.mahasiswa = []\n",
    "        \n",
    "    def tambahMahasiswa(self,namaMahasiswa):\n",
    "        self.mahasiswa.append(namaMahasiswa)"
   ]
  },
  {
   "cell_type": "code",
   "execution_count": 721,
   "metadata": {},
   "outputs": [],
   "source": [
    "prodi = [Prodi(\"Informatika\",7000000,\"IF\"),\n",
    "         Prodi(\"Sistem Informasi\",8000000,\"SI\"),\n",
    "         Prodi(\"Teknologi Indormasi\",8000000,\"TI\"),\n",
    "         Prodi(\"Rekayasa Perangkat Lunak\",8500000,\"RPL\"),\n",
    "         Prodi(\"Sains Data\",7000000,\"DS\")]"
   ]
  },
  {
   "cell_type": "code",
   "execution_count": 722,
   "metadata": {},
   "outputs": [],
   "source": [
    "def hitungMahasiswa(prodi):\n",
    "    total = 0\n",
    "    for i in prodi:\n",
    "        total += len(i.mahasiswa)\n",
    "    return total"
   ]
  },
  {
   "cell_type": "code",
   "execution_count": null,
   "metadata": {},
   "outputs": [],
   "source": []
  },
  {
   "cell_type": "code",
   "execution_count": 723,
   "metadata": {},
   "outputs": [],
   "source": [
    "a = 0\n",
    "angkatan = 2021\n",
    "growth_factor = 1.02\n",
    "mahasiswa = random.randint(1,100)\n",
    "\n",
    "for _ in range(12):    \n",
    "    for _ in range(30):\n",
    "        if random.random() < 0.5:\n",
    "            mahasiswa += int(mahasiswa * random.uniform(0.05, 0.5) * growth_factor)\n",
    "        else:\n",
    "            mahasiswa -= int(mahasiswa * random.uniform(0.05, 0.5) * growth_factor)\n",
    "\n",
    "        for _ in range(random.randint(1,mahasiswa)):\n",
    "            if hitungMahasiswa(prodi) == 600:\n",
    "                break \n",
    "            if random.random() < 0.5:\n",
    "                prodiID = random.randint(0, 4)\n",
    "                a += 1\n",
    "                prodi[prodiID].tambah_mahasiswa(Mahasiswa(a, prodi[prodiID], angkatan))        "
   ]
  },
  {
   "cell_type": "code",
   "execution_count": 724,
   "metadata": {},
   "outputs": [
    {
     "name": "stdout",
     "output_type": "stream",
     "text": [
      "Informatika : [2, 8, 9, 14, 36, 54, 64, 69, 79, 82, 93, 107, 108, 109, 123, 124, 132, 135, 137, 146, 151, 166, 170, 178, 179, 180, 181, 184, 192, 201, 221, 244, 250, 256, 257, 272, 275, 284, 285, 307, 315, 316, 318, 319, 321, 331, 334, 339, 341, 348, 369, 371, 376, 382, 390, 394, 403, 406, 410, 421, 422, 423, 424, 425, 426, 427, 428, 429, 436, 441, 444, 452, 454, 461, 465, 467, 474, 475, 480, 482, 491, 493, 494, 501, 504, 520, 526, 529, 539, 543, 549, 552, 557, 558, 563, 567, 569, 570, 571, 573, 574, 577, 578, 580, 583, 589, 593, 598, 600]\n",
      "Sistem Informasi : [4, 11, 25, 26, 32, 42, 43, 45, 60, 61, 70, 73, 75, 80, 98, 111, 117, 122, 127, 130, 131, 134, 136, 139, 140, 147, 152, 157, 158, 164, 165, 167, 173, 175, 176, 182, 190, 197, 206, 207, 210, 213, 215, 220, 227, 229, 234, 237, 238, 247, 248, 255, 259, 263, 264, 265, 271, 280, 286, 291, 293, 294, 295, 302, 308, 312, 323, 327, 336, 337, 338, 346, 355, 359, 361, 363, 364, 367, 368, 397, 400, 412, 418, 430, 433, 435, 443, 451, 453, 459, 462, 466, 469, 478, 479, 483, 486, 487, 489, 490, 495, 497, 498, 500, 509, 513, 515, 522, 528, 545, 554, 556, 568, 576, 587, 588, 591, 595]\n",
      "Teknologi Indormasi : [1, 3, 7, 12, 16, 24, 27, 33, 37, 40, 41, 46, 50, 53, 56, 58, 71, 72, 76, 85, 86, 87, 88, 89, 91, 92, 95, 96, 100, 106, 110, 112, 119, 126, 142, 144, 148, 150, 153, 154, 160, 161, 174, 183, 188, 193, 203, 204, 205, 216, 218, 232, 233, 240, 241, 242, 243, 254, 261, 262, 266, 267, 269, 270, 276, 278, 279, 282, 283, 287, 306, 313, 320, 325, 326, 330, 349, 351, 352, 362, 370, 373, 374, 379, 380, 384, 388, 405, 414, 417, 431, 432, 445, 448, 450, 457, 460, 470, 481, 484, 485, 492, 496, 499, 503, 505, 508, 512, 514, 516, 517, 523, 525, 527, 531, 533, 534, 536, 537, 544, 555, 560, 561, 565, 572, 579, 582, 592, 594, 597]\n",
      "Rekayasa Perangkat Lunak : [5, 10, 18, 21, 29, 30, 34, 38, 39, 47, 48, 49, 52, 57, 59, 62, 63, 65, 67, 68, 74, 78, 81, 84, 94, 97, 101, 102, 103, 104, 105, 113, 115, 116, 118, 120, 121, 125, 128, 129, 138, 141, 149, 155, 159, 163, 168, 171, 172, 186, 194, 198, 200, 208, 209, 211, 217, 223, 226, 230, 235, 236, 245, 253, 260, 268, 274, 277, 288, 290, 299, 300, 305, 309, 317, 322, 324, 328, 340, 342, 343, 345, 350, 353, 357, 358, 385, 386, 396, 398, 399, 401, 404, 409, 411, 415, 419, 437, 438, 442, 446, 449, 455, 456, 458, 468, 472, 473, 477, 502, 507, 511, 519, 521, 530, 535, 540, 541, 542, 547, 551, 562, 575, 584, 585]\n",
      "Sains Data : [6, 13, 15, 17, 19, 20, 22, 23, 28, 31, 35, 44, 51, 55, 66, 77, 83, 90, 99, 114, 133, 143, 145, 156, 162, 169, 177, 185, 187, 189, 191, 195, 196, 199, 202, 212, 214, 219, 222, 224, 225, 228, 231, 239, 246, 249, 251, 252, 258, 273, 281, 289, 292, 296, 297, 298, 301, 303, 304, 310, 311, 314, 329, 332, 333, 335, 344, 347, 354, 356, 360, 365, 366, 372, 375, 377, 378, 381, 383, 387, 389, 391, 392, 393, 395, 402, 407, 408, 413, 416, 420, 434, 439, 440, 447, 463, 464, 471, 476, 488, 506, 510, 518, 524, 532, 538, 546, 548, 550, 553, 559, 564, 566, 581, 586, 590, 596, 599]\n"
     ]
    }
   ],
   "source": [
    "for i in prodi:\n",
    "    print(f\"{i.nama_prodi} : {[i.id for i in i.mahasiswa]}\")"
   ]
  },
  {
   "cell_type": "code",
   "execution_count": null,
   "metadata": {},
   "outputs": [],
   "source": []
  },
  {
   "cell_type": "code",
   "execution_count": 725,
   "metadata": {},
   "outputs": [],
   "source": [
    "def pembagianKelas(prodi,angkatan):\n",
    "    for program_studi in prodi:\n",
    "        total_mahasiswa = len(program_studi.mahasiswa)\n",
    "        kelas = total_mahasiswa // 30\n",
    "        \n",
    "        # Buat Kelas\n",
    "        for i in range(1,kelas + 1):\n",
    "            program_studi.tambah_kelas(Kelas(f\"{program_studi.kodeProdi}-{angkatan % 2000}-{i}\"))\n",
    "        \n",
    "        for x in program_studi.kelas:\n",
    "            for i in range(30):\n",
    "                x.tambahMahasiswa(program_studi.mahasiswa[i])\n",
    "        \n",
    "        # Pembagian\n",
    "       \n",
    "pembagianKelas(prodi,2021)"
   ]
  },
  {
   "cell_type": "code",
   "execution_count": 726,
   "metadata": {},
   "outputs": [
    {
     "name": "stdout",
     "output_type": "stream",
     "text": [
      "SI-21-2 mahasiswa : [4, 11, 25, 26, 32, 42, 43, 45, 60, 61, 70, 73, 75, 80, 98, 111, 117, 122, 127, 130, 131, 134, 136, 139, 140, 147, 152, 157, 158, 164]\n"
     ]
    }
   ],
   "source": [
    "print(f\"{prodi[1].kelas[1].nama_kelas} mahasiswa : {[i.id for i in prodi[1].kelas[1].mahasiswa]}\")"
   ]
  }
 ],
 "metadata": {
  "kernelspec": {
   "display_name": "base",
   "language": "python",
   "name": "python3"
  },
  "language_info": {
   "codemirror_mode": {
    "name": "ipython",
    "version": 3
   },
   "file_extension": ".py",
   "mimetype": "text/x-python",
   "name": "python",
   "nbconvert_exporter": "python",
   "pygments_lexer": "ipython3",
   "version": "3.10.9"
  },
  "orig_nbformat": 4
 },
 "nbformat": 4,
 "nbformat_minor": 2
}
