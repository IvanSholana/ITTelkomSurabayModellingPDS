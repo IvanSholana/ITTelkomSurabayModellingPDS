{
 "cells": [
  {
   "cell_type": "code",
   "execution_count": null,
   "metadata": {},
   "outputs": [],
   "source": [
    "import random\n",
    "import pandas as pd\n",
    "import matplotlib.pyplot as plt"
   ]
  },
  {
   "cell_type": "code",
   "execution_count": null,
   "metadata": {},
   "outputs": [],
   "source": [
    "class Kampus:\n",
    "    def __init__(self,nama_kampus,prodi):\n",
    "        self.nama_kampus = nama_kampus\n",
    "        self.prodi = prodi\n",
    "        self.anggaran = 0\n",
    "        self.pengeluaran = 0\n",
    "        self.dosen = 0\n",
    "    \n",
    "    def tambahAnggaran(self,pemasukan):\n",
    "        self.anggaran += pemasukan\n",
    "        \n",
    "    def tambahPengeluaran(self,pengeluaran):\n",
    "        self.pengeluaran += pengeluaran\n",
    "        \n",
    "\n",
    "class Mahasiswa:\n",
    "    def __init__(self,id,prodi,angkatan):\n",
    "        self.id = id\n",
    "        self.prodi = prodi\n",
    "        self.angkatan = angkatan\n",
    "        \n",
    "class Prodi:\n",
    "    def __init__(self,namaProdi,UKT,kodeProdi):\n",
    "        self.mahasiswa = []\n",
    "        self.nama_prodi = namaProdi\n",
    "        self.kodeProdi = kodeProdi\n",
    "        self.angkatan = []\n",
    "        self.kelas = []\n",
    "        self.UKT = UKT\n",
    "        self.dosen = 0\n",
    "        \n",
    "    def tambah_kelas(self,nama_kelas):\n",
    "        self.kelas.append(nama_kelas)\n",
    "    \n",
    "    def tambah_angkatan(self,tahunAngkatan):\n",
    "        self.angkatan.append(tahunAngkatan)\n",
    "        \n",
    "    def tambah_mahasiswa(self,mahasiswa):\n",
    "        self.mahasiswa.append(mahasiswa)\n",
    "        \n",
    "\n",
    "class Kelas:\n",
    "    def __init__(self,nama_kelas):\n",
    "        self.nama_kelas = nama_kelas\n",
    "        self.mahasiswa = []\n",
    "        \n",
    "    def tambahMahasiswa(self,namaMahasiswa):\n",
    "        self.mahasiswa.append(namaMahasiswa)"
   ]
  },
  {
   "cell_type": "code",
   "execution_count": null,
   "metadata": {},
   "outputs": [],
   "source": [
    "prodi = [Prodi(\"Informatika\",7000000,\"IF\"),\n",
    "         Prodi(\"Sistem Informasi\",8000000,\"SI\"),\n",
    "         Prodi(\"Teknologi Indormasi\",8000000,\"TI\"),\n",
    "         Prodi(\"Rekayasa Perangkat Lunak\",8500000,\"RPL\"),\n",
    "         Prodi(\"Sains Data\",7000000,\"DS\")]"
   ]
  },
  {
   "cell_type": "code",
   "execution_count": null,
   "metadata": {},
   "outputs": [],
   "source": [
    "ITTelkom = Kampus(\"ITTelkom Madura\",prodi)"
   ]
  },
  {
   "cell_type": "code",
   "execution_count": null,
   "metadata": {},
   "outputs": [],
   "source": [
    "def hitungMahasiswa(prodi):\n",
    "    total = 0\n",
    "    for i in prodi:\n",
    "        total += len(i.mahasiswa)\n",
    "    return total"
   ]
  },
  {
   "cell_type": "code",
   "execution_count": null,
   "metadata": {},
   "outputs": [],
   "source": [
    "def pembagianKelas(prodi,angkatan):\n",
    "    for program_studi in prodi:\n",
    "        total_mahasiswa = len(program_studi.mahasiswa)\n",
    "        kelas = total_mahasiswa // 30\n",
    "        program_studi.angkatan.append(angkatan)\n",
    "        \n",
    "        program_studi.dosen += total_mahasiswa // 40\n",
    "        ITTelkom.dosen += program_studi.dosen\n",
    "        \n",
    "        # Buat Kelas\n",
    "        for i in range(1,kelas + 1):\n",
    "            program_studi.tambah_kelas(Kelas(f\"{program_studi.kodeProdi}-{angkatan % 2000}-{i}\"))\n",
    "        \n",
    "        for x in program_studi.kelas:\n",
    "            for i in range(30):\n",
    "                x.tambahMahasiswa(program_studi.mahasiswa[i])\n",
    "        \n",
    "        # Pembagian\n",
    "        if kelas * 30 < len(program_studi.mahasiswa):\n",
    "            program_studi.tambah_kelas(Kelas(f\"{program_studi.kodeProdi}-{angkatan % 2000}-{kelas+ 1}\"))\n",
    "            for i in range(kelas * 30 + 1, len(program_studi.mahasiswa)):\n",
    "                program_studi.kelas[-1].tambahMahasiswa(program_studi.mahasiswa[i])"
   ]
  },
  {
   "cell_type": "code",
   "execution_count": null,
   "metadata": {},
   "outputs": [],
   "source": [
    "def simulasiKampus(tahunStart,tahunTerakhir):\n",
    "    a = 0\n",
    "    angkatan = tahunStart\n",
    "    growth_factor = 1.02\n",
    "    mahasiswa = random.randint(1,100)\n",
    "    cashFlowKampus = []\n",
    "    for _ in range(tahunTerakhir - tahunStart):\n",
    "        for bulan in range(1,12 + 1):    \n",
    "            # MAHASISWA AKTIF\n",
    "            if(bulan == 2 or bulan == 11):\n",
    "                for i in prodi:\n",
    "                    ITTelkom.tambahAnggaran(len(i.mahasiswa) * i.UKT)\n",
    "                    \n",
    "            # PENDAFTARAN\n",
    "            for _ in range(30): \n",
    "                if random.random() < 0.5:\n",
    "                    mahasiswa += int(mahasiswa * random.uniform(0.05, 0.5) * growth_factor)\n",
    "                else:\n",
    "                    mahasiswa -= int(mahasiswa * random.uniform(0.05, 0.5) * growth_factor)\n",
    "                for _ in range(random.randint(1,mahasiswa)):\n",
    "                    BiayaUP3 = 8000000\n",
    "                    BiaySDP = 12150000\n",
    "                    if hitungMahasiswa(prodi) == 600:\n",
    "                        break \n",
    "                    if random.random() < 0.5:\n",
    "                        prodiID = random.randint(0, 4)\n",
    "                        a += 1\n",
    "                        prodi[prodiID].tambah_mahasiswa(Mahasiswa(a, prodi[prodiID], angkatan))\n",
    "                        ITTelkom.tambahAnggaran(BiayaUP3 + BiaySDP + prodi[prodiID].UKT) \n",
    "                        \n",
    "            # CASH FLOW\n",
    "            gajiDosen = 7000000 * ITTelkom.dosen\n",
    "            pengeluaran = 0.7 * ITTelkom.anggaran / 12  + gajiDosen\n",
    "            ITTelkom.pengeluaran = pengeluaran\n",
    "            cashflow = ITTelkom.anggaran - pengeluaran\n",
    "            cashFlowKampus.append([angkatan,bulan,ITTelkom.anggaran,ITTelkom.pengeluaran,cashflow]) \n",
    "            ITTelkom.anggaran -= pengeluaran           \n",
    "        \n",
    "        # PEMBAGIAN KELAS\n",
    "        pembagianKelas(prodi,angkatan)  \n",
    "        angkatan += 1\n",
    "        \n",
    "    return cashFlowKampus"
   ]
  },
  {
   "cell_type": "code",
   "execution_count": null,
   "metadata": {},
   "outputs": [],
   "source": [
    "result = simulasiKampus(2021,2025)"
   ]
  },
  {
   "cell_type": "code",
   "execution_count": null,
   "metadata": {},
   "outputs": [],
   "source": [
    "columns = ['tahun', 'bulan', 'pemasukan', 'pengeluaran', 'cashflow']\n",
    "df = pd.DataFrame(result, columns=columns)\n",
    "dfeachYear = []\n",
    "\n",
    "tahuncolumns = df.tahun.unique().tolist()\n",
    "\n",
    "for i in tahuncolumns:\n",
    "    dfeachYear.append(df.loc[df.tahun == i])"
   ]
  },
  {
   "cell_type": "code",
   "execution_count": null,
   "metadata": {},
   "outputs": [],
   "source": [
    "dfeachYear"
   ]
  },
  {
   "cell_type": "code",
   "execution_count": null,
   "metadata": {},
   "outputs": [],
   "source": [
    "plt.figure(figsize=(12, 6))  # Ukuran gambar secara horizontal\n",
    "plt.subplot(1, 4, 1)\n",
    "plt.plot(dfeachYear[0].bulan,dfeachYear[0].cashflow)\n",
    "plt.xlabel('Bulan')\n",
    "plt.ylabel('Cashflow')\n",
    "plt.title('Diagram Line Cashflow per 2021')\n",
    "plt.grid(axis='y')\n",
    "plt.tight_layout()\n",
    "\n",
    "plt.subplot(1, 4, 2)\n",
    "plt.plot(dfeachYear[1].bulan,dfeachYear[1].cashflow)\n",
    "plt.xlabel('Bulan')\n",
    "plt.ylabel('Cashflow')\n",
    "plt.title('Diagram Line Cashflow per 2022')\n",
    "plt.grid(axis='y')\n",
    "plt.tight_layout()\n",
    "\n",
    "plt.subplot(1, 4, 3)\n",
    "plt.plot(dfeachYear[2].bulan,dfeachYear[2].cashflow)\n",
    "plt.xlabel('Bulan')\n",
    "plt.ylabel('Cashflow')\n",
    "plt.title('Diagram Line Cashflow per 2023')\n",
    "plt.grid(axis='y')\n",
    "plt.tight_layout()\n",
    "\n",
    "plt.subplot(1, 4, 4)\n",
    "plt.plot(dfeachYear[3].bulan,dfeachYear[3].cashflow)\n",
    "plt.xlabel('Bulan')\n",
    "plt.ylabel('Cashflow')\n",
    "plt.title('Diagram Line Cashflow per 2024')\n",
    "plt.grid(axis='y')\n",
    "plt.tight_layout()\n",
    "\n",
    "plt.show()"
   ]
  },
  {
   "cell_type": "code",
   "execution_count": null,
   "metadata": {},
   "outputs": [],
   "source": [
    "for i in prodi:\n",
    "    print(i.kodeProdi,end='\\n')\n",
    "    for x in i.kelas:\n",
    "        print(f\"{x.nama_kelas} : {[i.id for i in x.mahasiswa]}\")\n",
    "    print(\"\")"
   ]
  }
 ],
 "metadata": {
  "kernelspec": {
   "display_name": "base",
   "language": "python",
   "name": "python3"
  },
  "language_info": {
   "codemirror_mode": {
    "name": "ipython",
    "version": 3
   },
   "file_extension": ".py",
   "mimetype": "text/x-python",
   "name": "python",
   "nbconvert_exporter": "python",
   "pygments_lexer": "ipython3",
   "version": "3.11.4"
  },
  "orig_nbformat": 4
 },
 "nbformat": 4,
 "nbformat_minor": 2
}
