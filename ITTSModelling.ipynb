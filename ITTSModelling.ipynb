{
 "cells": [
  {
   "cell_type": "code",
   "execution_count": 33,
   "metadata": {},
   "outputs": [],
   "source": [
    "import random\n",
    "import math"
   ]
  },
  {
   "cell_type": "code",
   "execution_count": 34,
   "metadata": {},
   "outputs": [],
   "source": [
    "class Mahasiswa:\n",
    "    def __init__(self,id,prodi,angkatan):\n",
    "        self.id = id\n",
    "        self.prodi = prodi\n",
    "        self.angkatan = angkatan\n",
    "        \n",
    "class Prodi:\n",
    "    def __init__(self,namaProdi,UKT,kodeProdi):\n",
    "        self.mahasiswa = []\n",
    "        self.nama_prodi = namaProdi\n",
    "        self.kodeProdi = kodeProdi\n",
    "        self.angkatan = []\n",
    "        self.kelas = []\n",
    "        self.UKT = UKT\n",
    "        \n",
    "    def tambah_kelas(self,nama_kelas):\n",
    "        self.kelas.append(nama_kelas)\n",
    "    \n",
    "    def tambah_angkatan(self,tahunAngkatan):\n",
    "        self.angkatan.append(tahunAngkatan)\n",
    "        \n",
    "    def tambah_mahasiswa(self,mahasiswa):\n",
    "        self.mahasiswa.append(mahasiswa)\n",
    "        \n",
    "\n",
    "class Kelas:\n",
    "    def __init__(self,nama_kelas):\n",
    "        self.nama_kelas = nama_kelas\n",
    "        self.mahasiswa = []\n",
    "        \n",
    "    def tambahMahasiswa(self,namaMahasiswa):\n",
    "        self.mahasiswa.append(namaMahasiswa)"
   ]
  },
  {
   "cell_type": "code",
   "execution_count": 35,
   "metadata": {},
   "outputs": [],
   "source": [
    "prodi = [Prodi(\"Informatika\",7000000,\"IF\"),\n",
    "         Prodi(\"Sistem Informasi\",8000000,\"SI\"),\n",
    "         Prodi(\"Teknologi Indormasi\",8000000,\"TI\"),\n",
    "         Prodi(\"Rekayasa Perangkat Lunak\",8500000,\"RPL\"),\n",
    "         Prodi(\"Sains Data\",7000000,\"DS\")]"
   ]
  },
  {
   "cell_type": "code",
   "execution_count": 36,
   "metadata": {},
   "outputs": [],
   "source": [
    "def hitungMahasiswa(prodi):\n",
    "    total = 0\n",
    "    for i in prodi:\n",
    "        total += len(i.mahasiswa)\n",
    "    return total"
   ]
  },
  {
   "cell_type": "code",
   "execution_count": 37,
   "metadata": {},
   "outputs": [],
   "source": [
    "def pembagianKelas(prodi,angkatan):\n",
    "    for program_studi in prodi:\n",
    "        total_mahasiswa = len(program_studi.mahasiswa)\n",
    "        kelas = total_mahasiswa // 30\n",
    "        \n",
    "        # Buat Kelas\n",
    "        for i in range(1,kelas + 1):\n",
    "            program_studi.tambah_kelas(Kelas(f\"{program_studi.kodeProdi}-{angkatan % 2000}-{i}\"))\n",
    "        \n",
    "        for x in program_studi.kelas:\n",
    "            for i in range(30):\n",
    "                x.tambahMahasiswa(program_studi.mahasiswa[i])\n",
    "        \n",
    "        # Pembagian\n",
    "        if kelas * 30 < len(program_studi.mahasiswa):\n",
    "            program_studi.tambah_kelas(Kelas(f\"{program_studi.kodeProdi}-{angkatan % 2000}-{len(program_studi.kelas) + 1}\"))\n",
    "            for i in range(kelas * 30 + 1, len(program_studi.mahasiswa)):\n",
    "                program_studi.kelas[-1].tambahMahasiswa(program_studi.mahasiswa[i])"
   ]
  },
  {
   "cell_type": "code",
   "execution_count": 38,
   "metadata": {},
   "outputs": [],
   "source": [
    "a = 0\n",
    "angkatan = 2021\n",
    "growth_factor = 1.02\n",
    "mahasiswa = random.randint(1,100)\n",
    "\n",
    "for _ in range(12):    \n",
    "    for _ in range(30):\n",
    "        if random.random() < 0.5:\n",
    "            mahasiswa += int(mahasiswa * random.uniform(0.05, 0.5) * growth_factor)\n",
    "        else:\n",
    "            mahasiswa -= int(mahasiswa * random.uniform(0.05, 0.5) * growth_factor)\n",
    "\n",
    "        for _ in range(random.randint(1,mahasiswa)):\n",
    "            if hitungMahasiswa(prodi) == 600:\n",
    "                break \n",
    "            if random.random() < 0.5:\n",
    "                prodiID = random.randint(0, 4)\n",
    "                a += 1\n",
    "                prodi[prodiID].tambah_mahasiswa(Mahasiswa(a, prodi[prodiID], angkatan))        "
   ]
  },
  {
   "cell_type": "code",
   "execution_count": 39,
   "metadata": {},
   "outputs": [],
   "source": [
    "pembagianKelas(prodi,2021)"
   ]
  },
  {
   "cell_type": "code",
   "execution_count": 40,
   "metadata": {},
   "outputs": [
    {
     "name": "stdout",
     "output_type": "stream",
     "text": [
      "IF\n",
      "IF-21-1 : [1, 5, 7, 33, 35, 44, 46, 49, 57, 58, 62, 67, 73, 78, 84, 87, 101, 102, 105, 107, 110, 112, 115, 119, 122, 124, 126, 128, 131, 132]\n",
      "IF-21-2 : [1, 5, 7, 33, 35, 44, 46, 49, 57, 58, 62, 67, 73, 78, 84, 87, 101, 102, 105, 107, 110, 112, 115, 119, 122, 124, 126, 128, 131, 132]\n",
      "IF-21-3 : [308, 309, 314, 316, 322, 337, 345, 348, 352, 357, 366, 368, 377, 379, 381, 390, 395, 396, 410, 420, 422, 424, 443, 447, 450, 451, 459]\n",
      "\n",
      "SI\n",
      "SI-21-1 : [3, 15, 18, 21, 25, 29, 30, 51, 52, 59, 63, 64, 68, 72, 75, 79, 81, 86, 89, 91, 97, 100, 111, 117, 129, 140, 141, 142, 154, 169]\n",
      "SI-21-2 : [3, 15, 18, 21, 25, 29, 30, 51, 52, 59, 63, 64, 68, 72, 75, 79, 81, 86, 89, 91, 97, 100, 111, 117, 129, 140, 141, 142, 154, 169]\n",
      "SI-21-3 : [3, 15, 18, 21, 25, 29, 30, 51, 52, 59, 63, 64, 68, 72, 75, 79, 81, 86, 89, 91, 97, 100, 111, 117, 129, 140, 141, 142, 154, 169]\n",
      "SI-21-4 : [414, 415, 417, 425, 428, 431, 436, 444, 448, 452, 453]\n",
      "\n",
      "TI\n",
      "TI-21-1 : [2, 27, 32, 36, 42, 45, 54, 56, 61, 71, 77, 83, 96, 108, 109, 116, 123, 125, 127, 137, 138, 143, 150, 151, 155, 159, 164, 167, 168, 171]\n",
      "TI-21-2 : [2, 27, 32, 36, 42, 45, 54, 56, 61, 71, 77, 83, 96, 108, 109, 116, 123, 125, 127, 137, 138, 143, 150, 151, 155, 159, 164, 167, 168, 171]\n",
      "TI-21-3 : [361, 362, 363, 365, 369, 370, 371, 373, 380, 388, 416, 418, 426, 430, 434, 438, 441, 456]\n",
      "\n",
      "RPL\n",
      "RPL-21-1 : [4, 9, 11, 12, 13, 16, 17, 19, 24, 31, 34, 40, 47, 48, 53, 66, 74, 82, 88, 90, 94, 95, 98, 103, 104, 106, 130, 139, 147, 149]\n",
      "RPL-21-2 : [4, 9, 11, 12, 13, 16, 17, 19, 24, 31, 34, 40, 47, 48, 53, 66, 74, 82, 88, 90, 94, 95, 98, 103, 104, 106, 130, 139, 147, 149]\n",
      "RPL-21-3 : [4, 9, 11, 12, 13, 16, 17, 19, 24, 31, 34, 40, 47, 48, 53, 66, 74, 82, 88, 90, 94, 95, 98, 103, 104, 106, 130, 139, 147, 149]\n",
      "RPL-21-4 : []\n",
      "\n",
      "DS\n",
      "DS-21-1 : [6, 8, 10, 14, 20, 22, 23, 26, 28, 37, 38, 39, 41, 43, 50, 55, 60, 65, 69, 70, 76, 80, 85, 92, 93, 99, 113, 114, 118, 120]\n",
      "DS-21-2 : [6, 8, 10, 14, 20, 22, 23, 26, 28, 37, 38, 39, 41, 43, 50, 55, 60, 65, 69, 70, 76, 80, 85, 92, 93, 99, 113, 114, 118, 120]\n",
      "DS-21-3 : [6, 8, 10, 14, 20, 22, 23, 26, 28, 37, 38, 39, 41, 43, 50, 55, 60, 65, 69, 70, 76, 80, 85, 92, 93, 99, 113, 114, 118, 120]\n",
      "DS-21-4 : [405, 407, 411, 419, 427, 433, 440, 442, 446, 454, 455, 457, 458, 461, 465]\n",
      "\n"
     ]
    }
   ],
   "source": [
    "for i in prodi:\n",
    "    print(i.kodeProdi,end='\\n')\n",
    "    for x in i.kelas:\n",
    "        print(f\"{x.nama_kelas} : {[i.id for i in x.mahasiswa]}\")\n",
    "    print(\"\")"
   ]
  },
  {
   "cell_type": "code",
   "execution_count": 41,
   "metadata": {},
   "outputs": [],
   "source": [
    "def hitung_pengeluaran_dosen(prodi):\n",
    "  \"\"\"\n",
    "  Pengeluaran dosen dalam 1 tahun\n",
    "  \"\"\"\n",
    "  jumlah_mahasiswa = hitungMahasiswa(prodi)\n",
    "  jumlah_dosen = jumlah_mahasiswa // 40\n",
    "  gaji_semua_dosen = jumlah_dosen * 800000 * 12 \n",
    "  return gaji_semua_dosen"
   ]
  },
  {
   "cell_type": "code",
   "execution_count": 42,
   "metadata": {},
   "outputs": [
    {
     "data": {
      "text/plain": [
       "105600000"
      ]
     },
     "execution_count": 42,
     "metadata": {},
     "output_type": "execute_result"
    }
   ],
   "source": [
    "hitung_pengeluaran_dosen(prodi)"
   ]
  },
  {
   "cell_type": "code",
   "execution_count": null,
   "metadata": {},
   "outputs": [],
   "source": []
  },
  {
   "cell_type": "code",
   "execution_count": null,
   "metadata": {},
   "outputs": [],
   "source": []
  }
 ],
 "metadata": {
  "kernelspec": {
   "display_name": "base",
   "language": "python",
   "name": "python3"
  },
  "language_info": {
   "codemirror_mode": {
    "name": "ipython",
    "version": 3
   },
   "file_extension": ".py",
   "mimetype": "text/x-python",
   "name": "python",
   "nbconvert_exporter": "python",
   "pygments_lexer": "ipython3",
   "version": "3.11.2"
  },
  "orig_nbformat": 4
 },
 "nbformat": 4,
 "nbformat_minor": 2
}
